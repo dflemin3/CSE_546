{
 "cells": [
  {
   "cell_type": "markdown",
   "metadata": {},
   "source": [
    "# David Fleming \n",
    "# HW 1 Question 6: Lasso Regression\n",
    "# CSE 546 Machine Learning\n",
    "# Prof. Kakade"
   ]
  },
  {
   "cell_type": "code",
   "execution_count": 1,
   "metadata": {
    "collapsed": false
   },
   "outputs": [],
   "source": [
    "#Imports\n",
    "%matplotlib inline\n",
    "\n",
    "import scipy.sparse as sp\n",
    "import numpy as np\n",
    "import matplotlib\n",
    "import matplotlib.pylab as plt\n",
    "from __future__ import division\n",
    "\n",
    "#Typical plot parameters that make for pretty plots\n",
    "plt.rcParams['figure.figsize'] = (10,8)\n",
    "from astroML.plotting import setup_text_plots\n",
    "setup_text_plots(fontsize=20, usetex=True)\n",
    "plt.rcParams['font.family'] = 'serif' \n",
    "plt.rcParams['font.size'] = 20.0"
   ]
  },
  {
   "cell_type": "markdown",
   "metadata": {},
   "source": [
    "# Scipy sparse matrix example from the ghost of CSE 546 past"
   ]
  },
  {
   "cell_type": "code",
   "execution_count": 2,
   "metadata": {
    "collapsed": false
   },
   "outputs": [
    {
     "name": "stdout",
     "output_type": "stream",
     "text": [
      "[[ 0  1  2  3]\n",
      " [ 4  5  6  7]\n",
      " [ 8  9 10 11]]\n",
      "\n",
      "(3, 4) (4,)\n",
      "\n",
      "[  6.  22.  38.]\n",
      "\n",
      "[ 12.]\n",
      "\n",
      "80\n"
     ]
    }
   ],
   "source": [
    "####\n",
    "# This is a quick walkthrough to help you understand the operations in scipy.sparse\n",
    "####\n",
    "\n",
    "# construct a sparse array, here we simply construct it from dense array\n",
    "A = np.arange(12).reshape(3,4)\n",
    "print A\n",
    "X = sp.csc_matrix(A)\n",
    "\n",
    "w = np.ones(4)\n",
    "print\n",
    "print X.shape, w.shape\n",
    "\n",
    "#  matrix vector multiplication\n",
    "y = X.dot(w)\n",
    "print\n",
    "print y\n",
    "\n",
    "#\n",
    "# dot product between i-th column of X and g\n",
    "#\n",
    "i = 0\n",
    "g = np.ones(3)\n",
    "# r1 = dot(X[:,i], g), because X takes matrix syntax, we need to do it in this way\n",
    "r1 = X[:,i].T.dot(g)\n",
    "print\n",
    "print r1\n",
    "#\n",
    "# This is how you can get dot(X[:,i], X[:,i]) in csc_matix\n",
    "#\n",
    "r2 = X[:,i].T.dot(X[:,i])[0,0]\n",
    "print\n",
    "print r2"
   ]
  },
  {
   "cell_type": "markdown",
   "metadata": {},
   "source": [
    "# Define a function to generate data from a linear model with Gaussian noise as described by Question 6.3."
   ]
  },
  {
   "cell_type": "code",
   "execution_count": 3,
   "metadata": {
    "collapsed": true
   },
   "outputs": [],
   "source": [
    "def generate_norm_data(n,k,d,sigma=1):\n",
    "    \"\"\"\n",
    "    Generates independent data pairs (x_i,y_i) according to the following model:\n",
    "    \n",
    "    yi = w*_0 + w*_1x_i_1 + w*2 x_i_2 + ... w*k x_i_k + eps_i\n",
    "    \n",
    "    for eps_i = Gaussian noise of the form N(0,sigma^2)\n",
    "    and each element of X (shape N x d) is from N(0,1)\n",
    "    \n",
    "    Parameters\n",
    "    ----------\n",
    "    n : int\n",
    "        Number of samples\n",
    "    k : int\n",
    "        k < d number of features for dimensions d\n",
    "    d : int\n",
    "        number of dimensions\n",
    "    sigma : float\n",
    "        Gaussian error standard deviation\n",
    "        \n",
    "    Returns\n",
    "    -------\n",
    "    w : vector\n",
    "        true weight vector\n",
    "    X : n x d matrix\n",
    "        data matrix\n",
    "    y : n x 1 vector\n",
    "    \"\"\"\n",
    "    assert(k < d), \"k < d must hold for k: %lf, d: %lf\" % (k,d)\n",
    "    \n",
    "    #Create w vector\n",
    "    #Let w0 = 0 and create a w∗ by setting the first k elements to ±10 \n",
    "    #(choose any sign pattern) and the remaining elements to 0\n",
    "    w = np.zeros(d)\n",
    "    for i in range(1,k+1):\n",
    "        if i < k/2:\n",
    "            w[i] = 10\n",
    "        else:\n",
    "            w[i] = -10\n",
    "    \n",
    "    #Generate n x d data matrix X for each element from N(0,1)\n",
    "    X = sp.csc_matrix(np.random.randn(n, d))\n",
    "    \n",
    "    #Generate n x 1 array of Gaussian error samples from N(0,sigma^2)\n",
    "    eps = np.random.randn(n)\n",
    "    \n",
    "    #Finally, generate a Gaussian noise vector eps with variance σ^2 and \n",
    "    #form y = Xw* + w*_0 + eps for w*_0 assumed to be 0\n",
    "    y = X.dot(w) + eps\n",
    "        \n",
    "    return w, X, y"
   ]
  },
  {
   "cell_type": "markdown",
   "metadata": {},
   "source": [
    "# Define a function to calculate the root mean square error."
   ]
  },
  {
   "cell_type": "code",
   "execution_count": 4,
   "metadata": {
    "collapsed": true
   },
   "outputs": [],
   "source": [
    "def calc_RMSE(y,y_hat):\n",
    "    \"\"\"\n",
    "    Compute the mean squared error of the prediction\n",
    "    y_hat relative to the observed y\n",
    "    \n",
    "    Parameters\n",
    "    ----------\n",
    "    y : array (n x 1)\n",
    "        observed\n",
    "    y_hat : array (n x 1)\n",
    "        predicted\n",
    "    \"\"\"\n",
    "    assert(len(y) == len(y_hat))\n",
    "    ret = 0.0\n",
    "    for i in range(0,len(y)):\n",
    "        ret += np.power(y_hat[i] - y[i],2.0)\n",
    "    return np.sqrt(ret/len(y))"
   ]
  },
  {
   "cell_type": "code",
   "execution_count": 5,
   "metadata": {
    "collapsed": false
   },
   "outputs": [],
   "source": [
    "def check_solution(X,y,w_pred,w_0_pred,l):\n",
    "    \"\"\"\n",
    "    See if the computed solution w_pred, w_0_pred for a given lambda l\n",
    "    is correct.  That occurs when:\n",
    "    \n",
    "    test = 2X^T(Xw_pred + w_0_pred - y)\n",
    "    test_j = -lambda*sign(w_pred_j) for each j that is nonzero\n",
    "    Otherwise, each j value should be lesser in magnitude that lambda\n",
    "    \n",
    "    Parameters\n",
    "    ----------\n",
    "    X : n x d matrix of data\n",
    "    y : N x 1 vector of response variables\n",
    "    w_pred : predicted d dimensions weight vector\n",
    "    w_0_pred : scalar offset term\n",
    "    l : regularization tuning parameter\n",
    "    \n",
    "    Returns\n",
    "    -------\n",
    "    ans : bool\n",
    "        whether or not the solution passes the test criteria\n",
    "    \"\"\"\n",
    "    eps = 1.0e-8\n",
    "    condition = False\n",
    "    \n",
    "    test = 2.0*X.T*(X.dot(w_pred) + w_0_pred - y)\n",
    "    \n",
    "    #Mask values corresponding to w_pred == 0\n",
    "    mask = np.fabs(w_pred) < eps\n",
    "    mask2 = np.fabs(test) < l\n",
    "    mask = np.ones(len(w_pred))[mask]\n",
    "            \n",
    "    if np.array_equal(mask2,mask) and np.sum(mask) != len(w_pred):\n",
    "        w_j = test[np.logical_not(mask)]\n",
    "        if np.allclose(w_j,-l*np.sign(w_j),atol=1.0e-10, rtol=1.0e-1) and w_j != []:\n",
    "            condition = True\n",
    "        else:\n",
    "            condition = False\n",
    "    else:\n",
    "        condition = False\n",
    "    \n",
    "    return condition"
   ]
  },
  {
   "cell_type": "markdown",
   "metadata": {},
   "source": [
    "# Define a function to compute $\\lambda_{max}$ where $\\lambda_{max}$ is the smallest value  for which the solution w is entirely zero as described by Question 6.2."
   ]
  },
  {
   "cell_type": "code",
   "execution_count": 6,
   "metadata": {
    "collapsed": true
   },
   "outputs": [],
   "source": [
    "def compute_max_lambda(X,y):\n",
    "    \"\"\"\n",
    "    Compute the smallest lambda for which the solution w is entirely zero\n",
    "    \n",
    "    Parameters\n",
    "    ----------\n",
    "    X : n x d matrix of data (scipy sparse matrix)\n",
    "    y : n x 1 vector of response variables\n",
    "    \n",
    "    Returns\n",
    "    -------\n",
    "    l : float\n",
    "        Smallest value of lambda for which the solution w is entirely zero\n",
    "    \"\"\"\n",
    "    y_mean = np.mean(y)\n",
    "    arg = X.T.dot(y - y_mean)\n",
    "    return 2.0*np.linalg.norm(arg,ord=np.inf)"
   ]
  },
  {
   "cell_type": "markdown",
   "metadata": {},
   "source": [
    "# The function naive_lasso performs a lasso regression via coordinate descent described by algorithm one in Question 6.1.\n",
    "This algorithm has been sped up by making use of numpy arrays for y and w and scipy sparse matricies for the data input matrix X.  For optimal performance, summations via for loops are avoided in favor up using vector/matrix multiplications using dot products and vector addition.  For code performance, see the cells below."
   ]
  },
  {
   "cell_type": "code",
   "execution_count": 7,
   "metadata": {
    "collapsed": false
   },
   "outputs": [],
   "source": [
    "def naive_lasso(X,y,l=10,w=-999,w_0=-999):\n",
    "    \"\"\"\n",
    "    Implimentation of the naive (un-optimized) lasso regression \n",
    "    algorithm.\n",
    "    \n",
    "    Parameters\n",
    "    ----------\n",
    "    X : n x d matrix of data\n",
    "    X_i : the ith row of X\n",
    "    y : N x 1 vector of response variables\n",
    "    w : d dimensions weight vector (optional)\n",
    "    w_0 : scalar offset term (optional)\n",
    "    l : regularization tuning parameter\n",
    "    \n",
    "    All matrices X assumed to be sparse and of the form given by \n",
    "    scipy.sparse.csc matrix\n",
    "    \n",
    "    Algorithm 1: Coordinate Descent Algorithm for Lasso\n",
    "    \n",
    "    while not converged do:\n",
    "        w_0 <- sum_i=1_N[y_i - sum_j[w_j X_ij]]/N\n",
    "        for(k [1,d]) do:\n",
    "            a_k <- 2 * sum_i=1_N[X_ik ^2]\n",
    "            c_k <- 2 * sum_i=1_N[X_ik (y_i - (w_0 + sum_j!=k[w_j X_ij]))]\n",
    "            w_k <- (c_k + lambda)/a_k if c_k < -lambda\n",
    "                    0 if c_k is between [-lambda,lambda]\n",
    "                    (c_k - lambda)/a_k if c_k > lambda\n",
    "        end\n",
    "    end\n",
    "\n",
    "    Returns\n",
    "    -------\n",
    "    w : numpy array\n",
    "        d x 1 weight vector\n",
    "    w_0 : float\n",
    "        offset\n",
    "    y_hat : numpy array (n x 1)\n",
    "        predictions\n",
    "    \"\"\"\n",
    "    #Define values\n",
    "    N = y.shape[0]\n",
    "    d = X.shape[1]\n",
    "    y = y.reshape(N,1)\n",
    "    \n",
    "    #If no initial conditions, assume Gaussian\n",
    "    if not hasattr(w, \"__len__\") and w == -999:\n",
    "        w = np.random.randn(d)\n",
    "    if w_0 == -999:\n",
    "        w_0 = np.random.randn(1)\n",
    "    \n",
    "    #Convergence condition\n",
    "    eps = 1.0e-6\n",
    "    w_old = np.zeros(w.shape).reshape(d,1)\n",
    "    w_pred = np.copy(w).reshape(d,1)\n",
    "    \n",
    "    while(np.sqrt((w_pred - w_old).dot((w_pred - w_old).T)[0][0]) > eps):\n",
    "        #Store for convergence test \n",
    "        w_old = np.copy(w_pred)\n",
    "        \n",
    "        #Compute w_0\n",
    "        w_0 = np.sum(y)\n",
    "        w_0 -= X.dot(w_pred).sum()\n",
    "        w_0 /= N\n",
    "            \n",
    "        #Compute a_k: d x 1 summing over columns\n",
    "        a = 2.0*np.asarray((X.power(2).sum(axis=0).T))\n",
    "        c = np.zeros(d)\n",
    "         \n",
    "        for k in range(0,d):\n",
    "            \n",
    "            alpha = np.zeros((d,d))\n",
    "            np.fill_diagonal(alpha, 1)\n",
    "            alpha[k,k] = 0\n",
    "            alpha = X.dot(alpha.dot(w_pred)) + w_0\n",
    "            \n",
    "            #Compute c: d x 1\n",
    "            c[k] = 2.0*X[:,k].T.dot((y-alpha))\n",
    "            \n",
    "            \"\"\"\n",
    "            #Compute c_k: d x 1\n",
    "            c_sum = 0.0\n",
    "            for i in range(0,N):\n",
    "                #Select not k columns\n",
    "                ind = [x for x in range(0,d) if x != k]\n",
    "                c_sum += X[i,k]*(y[i] - (X[i,ind].dot(w_pred[ind]) + w_0))\n",
    "            c[k] = 2.0*c_sum\n",
    "            \"\"\"\n",
    "            \n",
    "            #Compute w_k\n",
    "            if(c[k] < -l):\n",
    "                w_pred[k] = (c[k] + l)/a[k]\n",
    "            elif(c[k] >= -l and c[k] <= l):\n",
    "                w_pred[k] = 0.0\n",
    "            elif(c[k]  > l):\n",
    "                w_pred[k] = (c[k] - l)/a[k]\n",
    "            else:\n",
    "                print \"Error! Shouldn't ever happen.\"\n",
    "        #end for\n",
    "        #print w_pred\n",
    "    #end while\n",
    "    \n",
    "    #Return as row array\n",
    "    y_hat = np.zeros(y.shape)\n",
    "    y_hat = X.dot(w_pred) + w_0\n",
    "    return w_pred.T, w_0, y_hat"
   ]
  },
  {
   "cell_type": "markdown",
   "metadata": {},
   "source": [
    "# The function lasso_reg_path solves multiple Lasso problems on a regularization path, starting at $\\lambda_{max}$ and decreasing $\\lambda$ by a constant ratio until few features are chosen correctly.  Each iteration stores informative data, such as correct non-zero features, RMSE, etc, for subsequent algorithm evalution."
   ]
  },
  {
   "cell_type": "code",
   "execution_count": 60,
   "metadata": {
    "collapsed": false
   },
   "outputs": [],
   "source": [
    "def lasso_reg_path(X,y,w=-999,w_0=-999,scale=0.8,reg_type=\"naive\",X_val=0,y_val=0):\n",
    "    \"\"\"\n",
    "    Implimentation of the naive (un-optimized) lasso regression \n",
    "    algorithm.\n",
    "    \n",
    "    Parameters\n",
    "    ----------\n",
    "    X : n x d matrix of data\n",
    "    y : n x 1 vector of response variables\n",
    "    w : d dimensions weight vector (optional)\n",
    "    w_0 : scalar offset term (optional)\n",
    "    scale : by how much lambda l decreases each run\n",
    "    reg_type : str\n",
    "        naive = use slow naive lasso\n",
    "        quick = use optimized lasso\n",
    "        \n",
    "    Returns\n",
    "    -------\n",
    "    \n",
    "    All matrices assumed to be sparse and of the form given by \n",
    "    scipy.sparse.csc matrix\n",
    "    \n",
    "    \"\"\"\n",
    "    #Store dimensions\n",
    "    n = y.shape[0]\n",
    "    d = X.shape[1]\n",
    "    \n",
    "    #Choose upper bound for lambda, initial conditions\n",
    "    l = compute_max_lambda(X,y)*scale\n",
    "    RMSE_prev = 1.0e5\n",
    "    eps = 0.1\n",
    "    val_RMSE_list = [] #Holds mean squared error at each step\n",
    "    train_RMSE_list = []\n",
    "    l_list = [] #Holds lambdas used at each iteration\n",
    "    iter_list = [] #keeps count of iteration number\n",
    "    nonzero_ind = [] #Holds indices for non-zero elements of w_pred\n",
    "    count = 0\n",
    "    \n",
    "    #If no initial conditions, assume Gaussian\n",
    "    if not hasattr(w, \"__len__\") and w == -999:\n",
    "        w = np.random.randn(d)\n",
    "    if w_0 == -999:\n",
    "        w_0 = np.random.randn(1)\n",
    "    if not hasattr(y_val, \"__len__\") and y_val == 0:\n",
    "        y_val = y\n",
    "    if not hasattr(X_val, \"__len__\") and X_val == 0:\n",
    "        X_val = X\n",
    "    \n",
    "    w_pred = np.copy(w).reshape(d,1)\n",
    "    w_old = np.copy(w_pred)\n",
    "    w = w.reshape(d,1)\n",
    "    y = y.reshape(n,1)\n",
    "    w_0_pred = w_0\n",
    "    w_0_old = w_0\n",
    "            \n",
    "    #If solution isn't converged, keep going\n",
    "    while(l > 0.1):\n",
    "        #If w_pred all 0's, feed a new one\n",
    "        w_pred = np.random.randn(d).reshape(d,1)\n",
    "        w_0_pred = np.random.randn(1)\n",
    "\n",
    "        if reg_type == \"naive\":\n",
    "            w_pred, w_0_pred, y_hat = naive_lasso(X,y,l=l,w=w_pred,w_0=w_0_pred)\n",
    "        elif reg_type == \"quick\":\n",
    "            w_pred, w_0_pred, y_hat = quick_lasso(X,y,l=l,w=w_pred,w_0=w_0_pred) \n",
    "        else:\n",
    "            \"Invalid lasso type.  Pick naive or quick. Inputted: %s\" % (reg_type)\n",
    "         \n",
    "        #Compute mean square error\n",
    "        \n",
    "        #Predict y_hat over validation set using predicted w\n",
    "        y_hat_w = np.zeros(y_val.shape)\n",
    "        y_hat_w = X_val.dot(w_pred.T) + w_0_pred\n",
    "        \n",
    "        #Compute RMSEs\n",
    "        val_RMSE = np.zeros(1)\n",
    "        train_RMSE = np.zeros(1)\n",
    "        val_RMSE = calc_RMSE(y_val,y_hat_w)\n",
    "        train_RMSE = calc_RMSE(y,y_hat)\n",
    "        \n",
    "        #Save info for future plotting\n",
    "        val_RMSE_list.append(val_RMSE)\n",
    "        train_RMSE_list.append(train_RMSE)\n",
    "        l_list.append(l)\n",
    "        iter_list.append(count)\n",
    "        nonzero_ind.append((w_pred != 0))\n",
    "        \n",
    "        #If solution is starts to increase validation RMSE sufficiently, return\n",
    "        if val_RMSE > RMSE_prev:\n",
    "            return w_old, w_0_old, val_RMSE_list, train_RMSE_list, l_list, iter_list, nonzero_ind \n",
    "        else:\n",
    "            RMSE_prev = val_RMSE\n",
    "            w_old = np.copy(w_pred)\n",
    "            w_0_old = w_0_pred\n",
    "    \n",
    "        #Decrease scale for next iteration\n",
    "        l *= scale\n",
    "        count += 1\n",
    "    \n",
    "    return w_pred, w_0_pred, val_RMSE_list, train_RMSE_list, l_list, iter_list, nonzero_ind"
   ]
  },
  {
   "cell_type": "markdown",
   "metadata": {},
   "source": [
    "# The function naive_lasso performs a lasso regression via coordinate descent described by algorithm two in Question 6.1.  For the derivation of the specific steps used by this algorithm and the respective time complexity, see attached sheet.\n",
    "This algorithm has been sped up by making use of numpy arrays for y and w and scipy sparse matricies for the data input matrix XFor optimal performance, summations via for loops are avoided in favor up using vector/matrix multiplications using dot products and vector addition.  For code performance, see the cells below."
   ]
  },
  {
   "cell_type": "code",
   "execution_count": 84,
   "metadata": {
    "collapsed": false
   },
   "outputs": [],
   "source": [
    "def quick_lasso(X,y,l=10,w=-999,w_0=-999):\n",
    "    \"\"\"\n",
    "    Implimentation of the naive (un-optimized) lasso regression \n",
    "    algorithm.\n",
    "    \n",
    "    Parameters\n",
    "    ----------\n",
    "    X : n x d matrix of data\n",
    "    X_i : the ith row of X\n",
    "    y : N x 1 vector of response variables\n",
    "    w : d dimensions weight vector (optional)\n",
    "    w_0 : scalar offset term (optional)\n",
    "    l : regularization tuning parameter\n",
    "    \n",
    "    All matrices X assumed to be sparse and of the form given by \n",
    "    scipy.sparse.csc matrix\n",
    "\n",
    "    Returns\n",
    "    -------\n",
    "    w : numpy array\n",
    "        d x 1 weight vector\n",
    "    w_0 : float\n",
    "        offset   \n",
    "    \"\"\"\n",
    "    #Define values\n",
    "    n = y.shape[0]\n",
    "    d = X.shape[1]\n",
    "    \n",
    "    #Convergence condition\n",
    "    eps = 1.0e-5\n",
    "    \n",
    "    #If no initial conditions, assume Gaussian\n",
    "    if w == -999:\n",
    "        w = np.random.randn(d)\n",
    "    if w_0 == -999:\n",
    "        w_0 = np.random.randn(1)\n",
    "    \n",
    "    w_pred = np.copy(w).reshape(d,1) # d x 1\n",
    "    w_old = np.zeros(w_pred.shape) # d x 1\n",
    "    y = y.reshape(n,1) # n x 1\n",
    "    c = np.zeros(d).reshape(d,1)\n",
    "    a = np.zeros(d).reshape(d,1)\n",
    "    \n",
    "    while(np.sqrt((w_pred - w_old).dot((w_pred - w_old).T)[0][0]) > eps):\n",
    "        \n",
    "        #Store for convergence test \n",
    "        w_old = np.copy(w_pred)\n",
    "        \n",
    "        #Compute y_hat (n x 1) to avoid numerical drift\n",
    "        y_hat = X.dot(w_pred) + w_0        \n",
    "            \n",
    "        #Compute w_0 via rule from 6.1.1\n",
    "        w_0_old = w_0\n",
    "        w_0 = w_0_old + np.sum(y - y_hat)/n\n",
    "        \n",
    "        #Update y_hat via 6.1.5\n",
    "        y_hat = y_hat - w_0_old + w_0\n",
    "        y_hat_old = np.copy(y_hat)\n",
    "        \n",
    "        #Compute a_k: d x 1 summing over columns\n",
    "        a = 2.0*np.asarray((X.power(2).sum(axis=0).T))\n",
    "            \n",
    "        for k in range(0,d):\n",
    "    \n",
    "            alpha = np.zeros((d,d))\n",
    "            np.fill_diagonal(alpha, 1)\n",
    "            alpha[k,k] = 0\n",
    "            alpha = X.dot(alpha.dot(w_pred)) + w_0\n",
    "            \n",
    "            #Compute c: d x 1\n",
    "            c[k] = 2.0*X[:,k].T.dot((y-alpha))\n",
    "            \n",
    "            #Compute w_k\n",
    "            if(c[k] < -l):\n",
    "                w_pred[k] = (c[k] + l)/a[k]\n",
    "            elif(c[k] >= -l and c[k] <= l):\n",
    "                w_pred[k] = 0.0\n",
    "            elif(c[k]  > l):\n",
    "                w_pred[k] = (c[k] - l)/a[k]\n",
    "            else:\n",
    "                print \"Error! Shouldn't ever happen.\"\n",
    "                break\n",
    "            \n",
    "            y_hat = y_hat - alpha + ((X).dot(w_pred)) \n",
    "        #end for\n",
    "    #end while\n",
    "    \n",
    "    #Return as row array\n",
    "    print w_pred.T.shape, w_0.shape\n",
    "    return w_pred.T, w_0, y_hat"
   ]
  },
  {
   "cell_type": "markdown",
   "metadata": {},
   "source": [
    "# Question 6.2\n",
    "# Test performance of the naive coordinate descent lasso solver on synthetic data.\n",
    "The generated data is of the form described by HW1 Question 6.2 with N = 50, d = 75, k = 5, and $\\sigma$ = 1.  For the evaluation, $R^2$ is the correlation of the true $w$ used to generate the data and $w_{pred}$ outputted by the lasso algorithm.  For perfect lasso performance, we would expect a correlation of 1."
   ]
  },
  {
   "cell_type": "code",
   "execution_count": 89,
   "metadata": {
    "collapsed": false
   },
   "outputs": [
    {
     "name": "stdout",
     "output_type": "stream",
     "text": [
      "w_pred correlation with w_true (from which model was generated:)\n",
      "R^2 = 0.958130\n",
      "w_pred correlation with w_true (from which model was generated:)\n",
      "R^2 = 0.991005\n",
      "w_pred correlation with w_true (from which model was generated:)\n",
      "R^2 = 0.996688\n",
      "w_pred correlation with w_true (from which model was generated:)\n",
      "R^2 = 0.991478\n",
      "w_pred correlation with w_true (from which model was generated:)\n",
      "R^2 = 0.976282\n",
      "w_pred correlation with w_true (from which model was generated:)\n",
      "R^2 = 0.940790\n",
      "w_pred correlation with w_true (from which model was generated:)\n",
      "R^2 = 0.952767\n",
      "w_pred correlation with w_true (from which model was generated:)\n",
      "R^2 = 0.990765\n",
      "w_pred correlation with w_true (from which model was generated:)\n",
      "R^2 = 0.994158\n",
      "3 loops, best of 3: 338 ms per loop\n"
     ]
    }
   ],
   "source": [
    "%%timeit -n3 -r3\n",
    "N = 50\n",
    "k = 5\n",
    "d = 75\n",
    "#w, X, y = generate_norm_data(N,k,d,sigma=1)\n",
    "\n",
    "#y = y.reshape(N,1)\n",
    "\n",
    "w_pred, w_0_pred, y_pred = naive_lasso(X,y,l=5)\n",
    "\n",
    "SSres = np.sum(np.power(w_pred-w,2))\n",
    "w_bar = np.mean(w)\n",
    "SStot = np.sum(np.power(w_pred-w_bar,2))\n",
    "print \"w_pred correlation with w_true (from which model was generated:)\"\n",
    "print(\"R^2 = %lf\" % (1.0 - (SSres/SStot)))"
   ]
  },
  {
   "cell_type": "markdown",
   "metadata": {},
   "source": [
    "# Results\n",
    "For the linear model with Gaussian noise with N = 50, d = 75, and k = 5, the algorithm quickly and accurately predicts the weight vector."
   ]
  },
  {
   "cell_type": "markdown",
   "metadata": {},
   "source": [
    "# Question 6.3\n",
    "\n",
    "#  Try out your work on synthetic data\n",
    "\n",
    "# Case: N = 50, d = 75, k = 5, $\\sigma$ = 1\n",
    "\n",
    "Lasso regression down a regularization path is performed on the linear data with Gaussian noise.  The precision and recall for the weight vector w is analyzed as a function of $\\lambda$ in the plots below."
   ]
  },
  {
   "cell_type": "code",
   "execution_count": 63,
   "metadata": {
    "collapsed": false
   },
   "outputs": [
    {
     "name": "stdout",
     "output_type": "stream",
     "text": [
      "1444.86705817\n"
     ]
    },
    {
     "ename": "ValueError",
     "evalue": "The truth value of an array with more than one element is ambiguous. Use a.any() or a.all()",
     "output_type": "error",
     "traceback": [
      "\u001b[0;31m---------------------------------------------------------------------------\u001b[0m",
      "\u001b[0;31mValueError\u001b[0m                                Traceback (most recent call last)",
      "\u001b[0;32m<ipython-input-63-45f8e8273328>\u001b[0m in \u001b[0;36m<module>\u001b[0;34m()\u001b[0m\n\u001b[1;32m     13\u001b[0m \u001b[0;31m#Run lasso regularization path\u001b[0m\u001b[0;34m\u001b[0m\u001b[0;34m\u001b[0m\u001b[0m\n\u001b[1;32m     14\u001b[0m \u001b[0;31m#w_pred, w_0_pred, val_RMSE_list, train_RMSE_list, l_list, iter_list, nonzero_ind\u001b[0m\u001b[0;34m\u001b[0m\u001b[0;34m\u001b[0m\u001b[0m\n\u001b[0;32m---> 15\u001b[0;31m \u001b[0mres\u001b[0m \u001b[0;34m=\u001b[0m \u001b[0mlasso_reg_path\u001b[0m\u001b[0;34m(\u001b[0m\u001b[0mX\u001b[0m\u001b[0;34m,\u001b[0m\u001b[0my\u001b[0m\u001b[0;34m,\u001b[0m\u001b[0mscale\u001b[0m\u001b[0;34m=\u001b[0m\u001b[0;36m0.8\u001b[0m\u001b[0;34m,\u001b[0m\u001b[0mreg_type\u001b[0m\u001b[0;34m=\u001b[0m\u001b[0;34m\"quick\"\u001b[0m\u001b[0;34m)\u001b[0m\u001b[0;34m\u001b[0m\u001b[0m\n\u001b[0m\u001b[1;32m     16\u001b[0m \u001b[0;34m\u001b[0m\u001b[0m\n\u001b[1;32m     17\u001b[0m \u001b[0;31m#Find true number of non-zeros\u001b[0m\u001b[0;34m\u001b[0m\u001b[0;34m\u001b[0m\u001b[0m\n",
      "\u001b[0;32m<ipython-input-60-d653a5ec2ed9>\u001b[0m in \u001b[0;36mlasso_reg_path\u001b[0;34m(X, y, w, w_0, scale, reg_type, X_val, y_val)\u001b[0m\n\u001b[1;32m     63\u001b[0m             \u001b[0mw_pred\u001b[0m\u001b[0;34m,\u001b[0m \u001b[0mw_0_pred\u001b[0m\u001b[0;34m,\u001b[0m \u001b[0my_hat\u001b[0m \u001b[0;34m=\u001b[0m \u001b[0mnaive_lasso\u001b[0m\u001b[0;34m(\u001b[0m\u001b[0mX\u001b[0m\u001b[0;34m,\u001b[0m\u001b[0my\u001b[0m\u001b[0;34m,\u001b[0m\u001b[0ml\u001b[0m\u001b[0;34m=\u001b[0m\u001b[0ml\u001b[0m\u001b[0;34m,\u001b[0m\u001b[0mw\u001b[0m\u001b[0;34m=\u001b[0m\u001b[0mw_pred\u001b[0m\u001b[0;34m,\u001b[0m\u001b[0mw_0\u001b[0m\u001b[0;34m=\u001b[0m\u001b[0mw_0_pred\u001b[0m\u001b[0;34m)\u001b[0m\u001b[0;34m\u001b[0m\u001b[0m\n\u001b[1;32m     64\u001b[0m         \u001b[0;32melif\u001b[0m \u001b[0mreg_type\u001b[0m \u001b[0;34m==\u001b[0m \u001b[0;34m\"quick\"\u001b[0m\u001b[0;34m:\u001b[0m\u001b[0;34m\u001b[0m\u001b[0m\n\u001b[0;32m---> 65\u001b[0;31m             \u001b[0mw_pred\u001b[0m\u001b[0;34m,\u001b[0m \u001b[0mw_0_pred\u001b[0m\u001b[0;34m,\u001b[0m \u001b[0my_hat\u001b[0m \u001b[0;34m=\u001b[0m \u001b[0mquick_lasso\u001b[0m\u001b[0;34m(\u001b[0m\u001b[0mX\u001b[0m\u001b[0;34m,\u001b[0m\u001b[0my\u001b[0m\u001b[0;34m,\u001b[0m\u001b[0ml\u001b[0m\u001b[0;34m=\u001b[0m\u001b[0ml\u001b[0m\u001b[0;34m,\u001b[0m\u001b[0mw\u001b[0m\u001b[0;34m=\u001b[0m\u001b[0mw_pred\u001b[0m\u001b[0;34m,\u001b[0m\u001b[0mw_0\u001b[0m\u001b[0;34m=\u001b[0m\u001b[0mw_0_pred\u001b[0m\u001b[0;34m)\u001b[0m\u001b[0;34m\u001b[0m\u001b[0m\n\u001b[0m\u001b[1;32m     66\u001b[0m         \u001b[0;32melse\u001b[0m\u001b[0;34m:\u001b[0m\u001b[0;34m\u001b[0m\u001b[0m\n\u001b[1;32m     67\u001b[0m             \u001b[0;34m\"Invalid lasso type.  Pick naive or quick. Inputted: %s\"\u001b[0m \u001b[0;34m%\u001b[0m \u001b[0;34m(\u001b[0m\u001b[0mreg_type\u001b[0m\u001b[0;34m)\u001b[0m\u001b[0;34m\u001b[0m\u001b[0m\n",
      "\u001b[0;32m<ipython-input-61-466511044467>\u001b[0m in \u001b[0;36mquick_lasso\u001b[0;34m(X, y, l, w, w_0)\u001b[0m\n\u001b[1;32m     31\u001b[0m \u001b[0;34m\u001b[0m\u001b[0m\n\u001b[1;32m     32\u001b[0m     \u001b[0;31m#If no initial conditions, assume Gaussian\u001b[0m\u001b[0;34m\u001b[0m\u001b[0;34m\u001b[0m\u001b[0m\n\u001b[0;32m---> 33\u001b[0;31m     \u001b[0;32mif\u001b[0m \u001b[0mw\u001b[0m \u001b[0;34m==\u001b[0m \u001b[0;34m-\u001b[0m\u001b[0;36m999\u001b[0m\u001b[0;34m:\u001b[0m\u001b[0;34m\u001b[0m\u001b[0m\n\u001b[0m\u001b[1;32m     34\u001b[0m         \u001b[0mw\u001b[0m \u001b[0;34m=\u001b[0m \u001b[0mnp\u001b[0m\u001b[0;34m.\u001b[0m\u001b[0mrandom\u001b[0m\u001b[0;34m.\u001b[0m\u001b[0mrandn\u001b[0m\u001b[0;34m(\u001b[0m\u001b[0md\u001b[0m\u001b[0;34m)\u001b[0m\u001b[0;34m\u001b[0m\u001b[0m\n\u001b[1;32m     35\u001b[0m     \u001b[0;32mif\u001b[0m \u001b[0mw_0\u001b[0m \u001b[0;34m==\u001b[0m \u001b[0;34m-\u001b[0m\u001b[0;36m999\u001b[0m\u001b[0;34m:\u001b[0m\u001b[0;34m\u001b[0m\u001b[0m\n",
      "\u001b[0;31mValueError\u001b[0m: The truth value of an array with more than one element is ambiguous. Use a.any() or a.all()"
     ]
    }
   ],
   "source": [
    "#Generate data set\n",
    "N = 50\n",
    "k = 5\n",
    "d = 75\n",
    "w, X, y = generate_norm_data(N,k,d,sigma=1)\n",
    "\n",
    "l = compute_max_lambda(X,y)\n",
    "print l\n",
    "\n",
    "N = y.shape[0]\n",
    "d = X.shape[1]\n",
    "\n",
    "#Run lasso regularization path \n",
    "#w_pred, w_0_pred, val_RMSE_list, train_RMSE_list, l_list, iter_list, nonzero_ind\n",
    "res = lasso_reg_path(X,y,scale=0.8,reg_type=\"naive\")\n",
    "\n",
    "#Find true number of non-zeros\n",
    "non_zeros = []\n",
    "tot_non_zeros = []\n",
    "k_mask = (w != 0)\n",
    "\n",
    "for val in res[6]:\n",
    "    #Compute total number of predicted non-zeros\n",
    "    tot_non_zeros.append(np.sum(val))\n",
    "    \n",
    "    #Compute # of true non-zeros recovered\n",
    "    mask_prime = np.logical_and(k_mask,val)\n",
    "    non_zeros.append(np.sum(mask_prime))\n",
    "        \n",
    "non_zeros = np.asarray(non_zeros)\n",
    "tot_non_zeros = np.asarray(tot_non_zeros)"
   ]
  },
  {
   "cell_type": "code",
   "execution_count": 12,
   "metadata": {
    "collapsed": false
   },
   "outputs": [
    {
     "name": "stdout",
     "output_type": "stream",
     "text": [
      "Optimal lambda: 0.03\n"
     ]
    },
    {
     "data": {
      "image/png": "[encoded data removed]",
      "text/plain": [
       "<matplotlib.figure.Figure at 0x1081fa690>"
      ]
     },
     "metadata": {},
     "output_type": "display_data"
    }
   ],
   "source": [
    "plt.plot(res[4],res[2],'-o')\n",
    "plt.gca().invert_xaxis()\n",
    "plt.xlabel(r\"$\\lambda$\")\n",
    "plt.ylabel(\"Validation RMSE\")\n",
    "plt.title(\"Validation RMSE vs $\\lambda$ for synthetic data with $\\sigma$ = 1\")\n",
    "\n",
    "print(\"Optimal lambda: %.2lf\" % (res[3][-2]))"
   ]
  },
  {
   "cell_type": "code",
   "execution_count": 13,
   "metadata": {
    "collapsed": false
   },
   "outputs": [
    {
     "data": {
      "image/png": "[encoded data removed]",
      "text/plain": [
       "<matplotlib.figure.Figure at 0x1084eefd0>"
      ]
     },
     "metadata": {},
     "output_type": "display_data"
    }
   ],
   "source": [
    "#Generate precsion, recall plots\n",
    "fig, ax1 = plt.subplots()\n",
    "ax1.plot(res[4],non_zeros/float(k), 'o-',color='b')\n",
    "ax1.set_xlabel(r'$\\lambda$')\n",
    "ax1.set_ylim(-.1,1.1)\n",
    "# Make the y-axis label and tick labels match the line color.\n",
    "ax1.set_ylabel('recall', color='b')\n",
    "for tl in ax1.get_yticklabels():\n",
    "    tl.set_color('b')\n",
    "\n",
    "\n",
    "ax2 = ax1.twinx()\n",
    "ax2.plot(res[4],non_zeros/tot_non_zeros, 'o-',color='r')\n",
    "ax2.set_ylabel('precision', color='r')\n",
    "ax2.set_ylim(-.1,1.1)\n",
    "for tl in ax2.get_yticklabels():\n",
    "    tl.set_color('r')\n",
    "\n",
    "plt.gca().invert_xaxis()\n",
    "plt.title(\"Precision, recall vs. $\\lambda$ for $\\sigma$ = 1 linear model with Gaussian noise\", y = 1.02)\n",
    "plt.show()"
   ]
  },
  {
   "cell_type": "markdown",
   "metadata": {},
   "source": [
    "# 6.3.1 Discussion\n",
    "As can be seen above, the model was able to accurately recall the true number of non-zeros after only a few iterations which is rather impressive given the large initial $\\lambda$.  As $\\lambda$ decreases, the recall improves the weights are less penalized allowing for the true non-zeros to be found.  The precision increases up until at point where it remains perfect.  For sufficiently small $\\lambda$, however the precision becomes terrible and approaches 0.  This is because in the low $\\lambda$ limit, lasso regression becomes normal linear regression and the variance in the data can lead to overfitting giving us too many non-zero weights."
   ]
  },
  {
   "cell_type": "markdown",
   "metadata": {},
   "source": [
    "# Case: N = 50, d = 75, k = 5, $\\sigma$ = 10\n",
    "\n",
    "Lasso regression down a regularization path is performed on the linear data with Gaussian noise.  The precision and recall for the weight vector w is analyzed as a function of $\\lambda$ in the plots below.  The $\\lambda$ used was the best fit one found above."
   ]
  },
  {
   "cell_type": "code",
   "execution_count": 14,
   "metadata": {
    "collapsed": false
   },
   "outputs": [
    {
     "name": "stdout",
     "output_type": "stream",
     "text": [
      "Precision: 0.12\n",
      "Recall: 1.00\n"
     ]
    }
   ],
   "source": [
    "#Generate data set\n",
    "N = 50\n",
    "k = 5\n",
    "d = 75\n",
    "w, X, y = generate_norm_data(N,k,d,sigma=10)\n",
    "\n",
    "N = y.shape[0]\n",
    "d = X.shape[1]\n",
    "\n",
    "#Run lasso solver\n",
    "w_pred, w_0_pred, y_hat = naive_lasso(X,y,l=3.3)\n",
    "\n",
    "#Find true number of non-zeros\n",
    "non_zeros = (w_pred != 0)\n",
    "tot_non_zeros = np.sum(w_pred != 0)\n",
    "k_mask = (w != 0)\n",
    "    \n",
    "#Compute # of true non-zeros recovered\n",
    "mask_prime = np.logical_and(k_mask,non_zeros)\n",
    "print \"Precision: %.2lf\" % (np.sum(mask_prime)/tot_non_zeros)\n",
    "print \"Recall: %.2lf\" % (np.sum(mask_prime)/k)"
   ]
  },
  {
   "cell_type": "code",
   "execution_count": 15,
   "metadata": {
    "collapsed": false
   },
   "outputs": [
    {
     "name": "stdout",
     "output_type": "stream",
     "text": [
      "Precision: 0.21\n",
      "Recall: 1.00\n"
     ]
    }
   ],
   "source": [
    "#Higher lambda\n",
    "w_pred, w_0_pred, y_hat = naive_lasso(X,y,l=10.0)\n",
    "\n",
    "#Find true number of non-zeros\n",
    "non_zeros = (w_pred != 0)\n",
    "tot_non_zeros = np.sum(w_pred != 0)\n",
    "k_mask = (w != 0)\n",
    "    \n",
    "#Compute # of true non-zeros recovered\n",
    "mask_prime = np.logical_and(k_mask,non_zeros)\n",
    "print \"Precision: %.2lf\" % (np.sum(mask_prime)/tot_non_zeros)\n",
    "print \"Recall: %.2lf\" % (np.sum(mask_prime)/k)"
   ]
  },
  {
   "cell_type": "code",
   "execution_count": 16,
   "metadata": {
    "collapsed": false
   },
   "outputs": [
    {
     "name": "stdout",
     "output_type": "stream",
     "text": [
      "Precision: 0.10\n",
      "Recall: 1.00\n"
     ]
    }
   ],
   "source": [
    "#Lower lambda\n",
    "w_pred, w_0_pred, y_hat = naive_lasso(X,y,l=1.0)\n",
    "\n",
    "#Find true number of non-zeros\n",
    "non_zeros = (w_pred != 0)\n",
    "tot_non_zeros = np.sum(w_pred != 0)\n",
    "k_mask = (w != 0)\n",
    "    \n",
    "#Compute # of true non-zeros recovered\n",
    "mask_prime = np.logical_and(k_mask,non_zeros)\n",
    "print \"Precision: %.2lf\" % (np.sum(mask_prime)/tot_non_zeros)\n",
    "print \"Recall: %.2lf\" % (np.sum(mask_prime)/k)"
   ]
  },
  {
   "cell_type": "markdown",
   "metadata": {},
   "source": [
    "# 6.3.2 Discussion\n",
    "As can be seen above, the model was able to accurately recall the true number of non-zeros after several iterations.  As $\\lambda$ decreases, the recall improves which makes sense since the non-zero weight values range between -10 and 10 so the bounding value need not be too.  Also, the precision increases up until at point where it remains perfect until $\\lambda$ gets quite small.  At this point, the precision decreases likely due to overfitting the noisy data.\n",
    "\n",
    "Using the $\\lambda$ for the $\\sigma$ = 1 case, the recall was perfect while precision was quite poor.  Many weights were very small, but still non-zero.  The $\\lambda$ used likely was not able to sufficiently constrain the weight parameter, explaining the existance of small, non-zero weights.  In order to explore how $\\lambda$ affects precision and recall, I ran two more tests: one with a high $\\lambda$ and one with a lower lambda.  The higher $\\lambda$ case gave me perfect recall and slightly better precision while the lower $\\lambda$ gave me even worse precision.  This result makes sense since in the limit that $\\lambda$ goes to 0, lasso regression tends towards linear regression with no penalty allowing higher variance answers and hence more non-zero components of the weight vector.  Larger $\\lambda$ penalize the solution more increasing the bias and beating down the non-zero components."
   ]
  },
  {
   "cell_type": "markdown",
   "metadata": {},
   "source": [
    "# 6.4 Become a data scientist at Yelp\n",
    "We’ll now put the Lasso to work on some real data. Recently Yelp held a recruiting competition on the\n",
    "analytics website Kaggle. Check it out at http://www.kaggle.com/c/yelp-recruiting. (As a side note,\n",
    "browsing other competitions on the site may also give you some ideas for class projects.)\n",
    "\n",
    "For this competition, the task is to predict the number of useful upvotes a particular review will receive. For\n",
    "extra fun, we will add the additional task of predicting the review’s number of stars based on the review’s\n",
    "text alone.\n",
    "\n",
    "For many Kaggle competitions (and machine learning methods in general), one of the most important\n",
    "requirements for doing well is the ability to discover great features. We can use our Lasso solver for this as\n",
    "follows. First, generate a large amount of features from the data, even if many of them are likely unnecessary.\n",
    "Afterward, use the Lasso to reduce the number of features to a more reasonable amount.\n",
    "\n",
    "Yelp provides a variety of data, such as the review’s text, date, and restaurant, as well as data pertaining to\n",
    "each business, user, and check-ins. This information has already been preprocessed for you into the following\n",
    "files:\n",
    "upvote data.csv Data matrix for predicting number of useful votes\n",
    "upvote labels.txt List of useful vote counts for each review\n",
    "upvote features.txt Names of each feature for interpreting results\n",
    "star data.mtx Data matrix for predicting number of stars\n",
    "star labels.txt List of number of stars given by each review\n",
    "star features.txt Names of each feature\n",
    "For each task, data files contain data matrices, while labels are stored in separate text files. The first data\n",
    "matrix is stored in CSV format, each row corresponding to one review. The second data matrix is stored\n",
    "in Matrix Market Format, a format for sparse matrices. Meta information for each feature is provided in\n",
    "the final text files, one feature per line. For the upvote task, these are functions of various data attributes.\n",
    "For the stars task, these are strings of one, two, or three words (n-grams). The feature values correspond\n",
    "roughly to how often each word appears in the review. All columns have also been normalized."
   ]
  },
  {
   "cell_type": "markdown",
   "metadata": {},
   "source": [
    "# Load the Yelp Data"
   ]
  },
  {
   "cell_type": "code",
   "execution_count": 17,
   "metadata": {
    "collapsed": true
   },
   "outputs": [],
   "source": [
    "import scipy.io as io\n",
    "import scipy.sparse as sparse\n",
    "import os\n",
    "\n",
    "os.chdir(\"/Users/dflemin3/Desktop/CSE_546/HW1/hw1-data\")\n",
    "\n",
    "# Load a text file of integers:\n",
    "y = np.loadtxt(\"upvote_labels.txt\", dtype=np.int)\n",
    "\n",
    "# Load a text file of strings:\n",
    "featureNames = open(\"upvote_features.txt\").read().splitlines()\n",
    "\n",
    "# Load a csv of floats:\n",
    "A = np.genfromtxt(\"upvote_data.csv\", delimiter=\",\")\n",
    "\n",
    "# Load a matrix market matrix, convert it to csc format:\n",
    "B = io.mmread(\"star_data.mtx\").tocsc()\n",
    "\n",
    "star_features = open(\"star_features.txt\").read().splitlines()\n",
    "\n",
    "star_y = np.loadtxt(\"star_labels.txt\", dtype=np.int)"
   ]
  },
  {
   "cell_type": "markdown",
   "metadata": {},
   "source": [
    "# Split the Upvote data into training, testing, and validation sets"
   ]
  },
  {
   "cell_type": "code",
   "execution_count": 18,
   "metadata": {
    "collapsed": false
   },
   "outputs": [
    {
     "name": "stdout",
     "output_type": "stream",
     "text": [
      "(6000, 1000)\n",
      "(6000, 1)\n"
     ]
    }
   ],
   "source": [
    "#Put data into better format\n",
    "A = sparse.csc_matrix(A)\n",
    "y = y.reshape(len(y),1)\n",
    "\n",
    "#Look at shape of data... 6000 x 1000\n",
    "print A.shape\n",
    "print y.shape\n",
    "\n",
    "#Training\n",
    "up_train_X = A[:4000,:]\n",
    "up_train_y = y[:4000]\n",
    "\n",
    "#Validation\n",
    "up_val_X = A[4000:5000,:]\n",
    "up_val_y = y[4000:5000]\n",
    "\n",
    "#Testing\n",
    "up_test_X = A[5000:,:]\n",
    "up_test_y = y[5000:]"
   ]
  },
  {
   "cell_type": "markdown",
   "metadata": {},
   "source": [
    "# Starting at $\\lambda_{max}$, run Lasso on the training set, decreasing $\\lambda$ using previous solutions as initial conditions to each problem. \n",
    "\n",
    "Stop when you have considered enough λ’s that, based on validation error, you\n",
    "can choose a good solution with confidence.  For my algorithm, I chose to stop the regularization path when my validation error began to increase. At each solution, I recorded the root-mean-squared-error (RMSE) on training\n",
    "and validation data and nonzeros in each solution for subsequent analysis."
   ]
  },
  {
   "cell_type": "code",
   "execution_count": 19,
   "metadata": {
    "collapsed": false
   },
   "outputs": [],
   "source": [
    "#Only run if I haven't before since it takes a long time\n",
    "cwd = \"/Users/dflemin3/Desktop/CSE_546/HW1/\"\n",
    "\n",
    "if (not os.path.exists(cwd+\"yelp_up_archive.npz\")):\n",
    "    res = lasso_reg_path(up_train_X,up_train_y,scale=0.8,X_val=up_val_X,y_val=up_val_y)\n",
    "    up_res = res\n",
    "    #Archive result\n",
    "    np.savez(cwd+\"yelp_up_archive.npz\",res=res)\n",
    "else:\n",
    "    archive = np.load(cwd+\"yelp_up_archive.npz\")\n",
    "    up_res = archive['res']"
   ]
  },
  {
   "cell_type": "markdown",
   "metadata": {},
   "source": [
    "# Questions 6.1, 6.2: Upvote data"
   ]
  },
  {
   "cell_type": "code",
   "execution_count": 20,
   "metadata": {
    "collapsed": false
   },
   "outputs": [
    {
     "name": "stdout",
     "output_type": "stream",
     "text": [
      "Optimal lambda: 5.13\n"
     ]
    },
    {
     "data": {
      "image/png": "[encoded data removed]",
      "text/plain": [
       "<matplotlib.figure.Figure at 0x109376e10>"
      ]
     },
     "metadata": {},
     "output_type": "display_data"
    }
   ],
   "source": [
    "#w_pred, w_0_pred, val_RMSE_list, train_RMSE_list, l_list, iter_list, nonzero_ind\n",
    "\n",
    "plt.plot(up_res[4],up_res[2],'-o',label='Validation')\n",
    "plt.plot(up_res[4],up_res[3],'-o',label='Training')\n",
    "plt.gca().invert_xaxis()\n",
    "plt.xlabel(r\"$\\lambda$\")\n",
    "plt.ylabel(\"RMSE\")\n",
    "plt.title(\"RMSE vs $\\lambda$ for Yelp Upvote Dataset\")\n",
    "plt.legend()\n",
    "\n",
    "print(\"Optimal lambda: %.2lf\" % (up_res[4][-2]))"
   ]
  },
  {
   "cell_type": "code",
   "execution_count": 21,
   "metadata": {
    "collapsed": false
   },
   "outputs": [
    {
     "data": {
      "text/plain": [
       "<matplotlib.text.Text at 0x102a1c550>"
      ]
     },
     "execution_count": 21,
     "metadata": {},
     "output_type": "execute_result"
    },
    {
     "data": {
      "image/png": "[encoded data removed]",
      "text/plain": [
       "<matplotlib.figure.Figure at 0x1029e8f90>"
      ]
     },
     "metadata": {},
     "output_type": "display_data"
    }
   ],
   "source": [
    "#res contains w_pred, w_0_pred, MSE_list, l_list, iter_list, nonzero_ind\n",
    "\n",
    "#Find true number of non-zeros\n",
    "non_zeros = []\n",
    "\n",
    "for val in up_res[6]:\n",
    "    #Compute total number of predicted non-zeros\n",
    "    non_zeros.append(np.sum(val))\n",
    "\n",
    "plt.plot(up_res[4],non_zeros,'-o')\n",
    "plt.gca().invert_xaxis()\n",
    "plt.xlabel(r\"$\\lambda$\")\n",
    "plt.ylabel(r\"Number of Non-zero entries in $w$\")\n",
    "plt.title(r\"Number of Non-zero entries in $w$ vs $\\lambda$ for Yelp Upvote Dataset\",y=1.02)"
   ]
  },
  {
   "cell_type": "markdown",
   "metadata": {},
   "source": [
    "# Question 6.2: Upvote data\n",
    "The $\\lambda$ that achieves the best validation performance is 5.13.  Below, I test my model on the remaining training set using the best $w$.  I'll then compute the RMSE in order to gauge accuracy."
   ]
  },
  {
   "cell_type": "code",
   "execution_count": 22,
   "metadata": {
    "collapsed": false
   },
   "outputs": [
    {
     "name": "stdout",
     "output_type": "stream",
     "text": [
      "RMSE = 2.36\n"
     ]
    }
   ],
   "source": [
    "#Predict y_hat over training set using predicted w\n",
    "y_hat = np.zeros(up_val_y.shape)\n",
    "y_hat = up_test_X.dot(up_res[0].T) + up_res[1]\n",
    "        \n",
    "#Compute RMSE\n",
    "RMSE = calc_RMSE(up_test_y,y_hat)\n",
    "print(\"RMSE = %.2lf\" % RMSE)"
   ]
  },
  {
   "cell_type": "markdown",
   "metadata": {},
   "source": [
    "I applied the best fit $w$ to the testing set upon comparison with the testing set labels, found a RMSE of 2.36.  This RMSE is greater than any found when comparing predictions with the validation data for a given $\\lambda$ but less than most training set RMSEs."
   ]
  },
  {
   "cell_type": "markdown",
   "metadata": {},
   "source": [
    "# Question 6.3: Upvote data\n",
    "Identify and comment on the relevance of the features corresponding to the 10 weights with the largest magnitude."
   ]
  },
  {
   "cell_type": "code",
   "execution_count": 23,
   "metadata": {
    "collapsed": false
   },
   "outputs": [
    {
     "name": "stdout",
     "output_type": "stream",
     "text": [
      "Feature = IsAutomotive/InPhoenix \t\t weight = 39.39\n",
      "Feature = ReviewInSpring/ReviewNumLineBreaks \t\t weight = 27.33\n",
      "Feature = sqrt(IsAutomotive*BusinessNumStars) \t\t weight = 17.06\n",
      "Feature = ReviewNumSmileys*InPhoenix \t\t weight = -16.18\n",
      "Feature = sqrt(IsMexican/BusinessLatitude) \t\t weight = -15.18\n",
      "Feature = log(IsRestaurant/UserAverageStars) \t\t weight = 14.88\n",
      "Feature = sqrt(BusinessNumReviews*BusinessNumCheckins) \t\t weight = 14.21\n",
      "Feature = sqrt(IsAutomotive/UserFunnyVotes) \t\t weight = 13.19\n",
      "Feature = sqrt(IsRestaurant/ReviewInWinter) \t\t weight = 11.47\n",
      "Feature = log(ReviewNumCharacters*InGlendale) \t\t weight = 10.72\n"
     ]
    }
   ],
   "source": [
    "#Identify non-zero weight vector elements\n",
    "ind_list = np.where(np.fabs(up_res[0]) != 0)[1] #Indices for those weights\n",
    "mask = (np.fabs(up_res[0]) != 0) \n",
    "weights = up_res[0][mask] #Actual values for the weights\n",
    "\n",
    "#Sort array smallest->largest, get indices \n",
    "sorted_w_args = np.argsort(np.fabs(weights))\n",
    "for i in range(1,11):\n",
    "    print \"Feature = %s \\t\\t weight = %.2lf\" % (featureNames[sorted_w_args[-i]], weights[sorted_w_args[-i]])"
   ]
  },
  {
   "cell_type": "markdown",
   "metadata": {},
   "source": [
    "# Do the weights make sense?\n",
    "Out of my top ten weights, I see that two gauge the length of a review via depedences on \"ReviewNumCharacters\" and \"ReviewNumLinBreaks\".  The number of characters correlate positively with the number of upvotes which makes sense since the longer a review is, general the more detailed and hence helpful it will be increasing its chance to be upvoted.  Higher numbers of line breaks, however, diminishes a review's number of upvotes.  Perhaps if one writes a book-length review that rambles on through many paragraphs, users will be less inclined to react positively to it.  \n",
    "\n",
    "Features that depend on location of the establishment the review is based on like the features \"InPhoenix\" and \"InGlendale\" show a strong correlation with the number of upvotes.  These features could influence the number of upvotes because if many people live in these areas and are searching for businesses, the reviews they read have a higher chance of being upvoted as compared to reviews based on businesses with lower population densities and hence less people looking up reviews on Yelp.  Other features that depended on business characteristics also seemd to have large weights, such as what type of business it was.  These features, such as \"IsRestarant\", \"IsAutomotive\", etc are likely to have large influence on the the upvotes a review receives as people are especially concerned about the level of service received and hence would appreciate reading someone else's experience.  For example, no one likes going to a shady mechanic or a terrible restaurant and would be inclinded upvote reviews about these places so that they can know about the business before becoming customers.  \n",
    "\n",
    "Some features describing user metrics such as \"UserFunnyVotes\" and \"UserAverageStars\" are found to be predictive features.  This makes sense since if a review has many funny votes and a high star count, other Yelp users have vetted that review previously so future users upon reading a well-respected user's review would be more inclined to upvote that review and trust it.  On the other hand,  I have no idea how \"BusinessLatitude\" is a useful feature.  Perhaps people down South have no reason to upvote a review of a business up North and vice-versa.  One funny note was that \"ReviewNumSmileys\" had a strong negative correlation with the usefulness of a review.  This makes sense because the funnier a review is, the less actual content about the business, customer experiences with it, etc the review contains making it objectively less useful to Yelp users."
   ]
  },
  {
   "cell_type": "markdown",
   "metadata": {},
   "source": [
    "# Question 6.4: Repeat Q 6.1-6.3 on the data set dealing with a review's score."
   ]
  },
  {
   "cell_type": "code",
   "execution_count": 24,
   "metadata": {
    "collapsed": false,
    "scrolled": true
   },
   "outputs": [
    {
     "name": "stdout",
     "output_type": "stream",
     "text": [
      "(45000, 2500)\n",
      "(45000, 1)\n"
     ]
    }
   ],
   "source": [
    "#Put data into better format\n",
    "B = sparse.csc_matrix(B)\n",
    "star_y = star_y.reshape(len(star_y),1) # 45000 x 1\n",
    "\n",
    "#Look at shape of data... 45000 x 2500\n",
    "print B.shape\n",
    "print star_y.shape\n",
    "\n",
    "#Training\n",
    "star_train_X = B[:30000,:]\n",
    "star_train_y = star_y[:30000]\n",
    "\n",
    "#Validation\n",
    "star_val_X = B[30000:37500,:]\n",
    "star_val_y = star_y[30000:37500]\n",
    "\n",
    "#Testing\n",
    "star_test_X = B[37500:,:]\n",
    "star_test_y = star_y[37500:]"
   ]
  },
  {
   "cell_type": "code",
   "execution_count": 25,
   "metadata": {
    "collapsed": false
   },
   "outputs": [],
   "source": [
    "#Only run if I haven't before since it takes a long time\n",
    "cwd = \"/Users/dflemin3/Desktop/CSE_546/HW1/\"\n",
    "\n",
    "if (not os.path.exists(cwd+\"yelp_star_archive.npz\")):\n",
    "    res = lasso_reg_path(star_train_X,star_train_y,scale=0.8,X_val=star_val_X,y_val=star_val_y)\n",
    "    star_res = res\n",
    "    #Archive result\n",
    "    np.savez(cwd+\"yelp_star_archive.npz\",res=res)\n",
    "else:\n",
    "    archive = np.load(cwd+\"yelp_star_archive.npz\")\n",
    "    star_res = archive['res']"
   ]
  },
  {
   "cell_type": "code",
   "execution_count": 26,
   "metadata": {
    "collapsed": false
   },
   "outputs": [
    {
     "name": "stdout",
     "output_type": "stream",
     "text": [
      "Optimal lambda: 3.48\n"
     ]
    },
    {
     "data": {
      "image/png": "[encoded data removed]",
      "text/plain": [
       "<matplotlib.figure.Figure at 0x10850bc50>"
      ]
     },
     "metadata": {},
     "output_type": "display_data"
    }
   ],
   "source": [
    "#w_pred, w_0_pred, val_RMSE_list, train_RMSE_list, l_list, iter_list, nonzero_ind\n",
    "\n",
    "plt.plot(star_res[4],star_res[2],'-o',label='Validation')\n",
    "plt.plot(star_res[4],star_res[3],'-o',label='Training')\n",
    "plt.gca().invert_xaxis()\n",
    "plt.xlabel(r\"$\\lambda$\")\n",
    "plt.ylabel(\"RMSE\")\n",
    "plt.title(\"RMSE vs $\\lambda$ for Yelp Star Dataset\")\n",
    "plt.legend()\n",
    "\n",
    "print(\"Optimal lambda: %.2lf\" % (star_res[4][-2]))"
   ]
  },
  {
   "cell_type": "code",
   "execution_count": 27,
   "metadata": {
    "collapsed": false
   },
   "outputs": [
    {
     "data": {
      "text/plain": [
       "<matplotlib.text.Text at 0x11971be50>"
      ]
     },
     "execution_count": 27,
     "metadata": {},
     "output_type": "execute_result"
    },
    {
     "data": {
      "image/png": "[encoded data removed]",
      "text/plain": [
       "<matplotlib.figure.Figure at 0x1085ea510>"
      ]
     },
     "metadata": {},
     "output_type": "display_data"
    }
   ],
   "source": [
    "#res contains w_pred, w_0_pred, MSE_list, l_list, iter_list, nonzero_ind\n",
    "\n",
    "#Find true number of non-zeros\n",
    "non_zeros = []\n",
    "\n",
    "for val in star_res[6]:\n",
    "    #Compute total number of predicted non-zeros\n",
    "    non_zeros.append(np.sum(val))\n",
    "\n",
    "plt.plot(star_res[4],non_zeros,'-o')\n",
    "plt.gca().invert_xaxis()\n",
    "plt.xlabel(r\"$\\lambda$\")\n",
    "plt.ylabel(r\"Number of Non-zero entries in $w$\")\n",
    "plt.title(r\"Number of Non-zero entries in $w$ vs $\\lambda$ for Yelp Star Dataset\",y=1.02)"
   ]
  },
  {
   "cell_type": "markdown",
   "metadata": {},
   "source": [
    "# Question 6.2: Star data\n",
    "The $\\lambda$ that achieves the best validation performance is 3.48.  Below, I test my model on the remaining training set using the best $w$.  I'll then compute the RMSE in order to gauge accuracy."
   ]
  },
  {
   "cell_type": "code",
   "execution_count": 28,
   "metadata": {
    "collapsed": false
   },
   "outputs": [
    {
     "name": "stdout",
     "output_type": "stream",
     "text": [
      "RMSE = 1.10\n"
     ]
    }
   ],
   "source": [
    "#Predict y_hat over training set using predicted w\n",
    "y_hat = np.zeros(star_val_y.shape)\n",
    "y_hat = star_test_X.dot(star_res[0].T) + star_res[1]\n",
    "        \n",
    "#Compute RMSE\n",
    "RMSE = calc_RMSE(star_test_y,y_hat)\n",
    "print(\"RMSE = %.2lf\" % RMSE)"
   ]
  },
  {
   "cell_type": "markdown",
   "metadata": {},
   "source": [
    "I applied the best fit $w$ to the testing set upon comparison with the testing set labels, found a RMSE of 1.10.  This generally agrees with both the testing and validation error and is relatively low in magnitude suggesting that the predictions are rather good."
   ]
  },
  {
   "cell_type": "markdown",
   "metadata": {},
   "source": [
    "# Question 6.3: Star data\n",
    "Identify and comment on the relevance of the features corresponding to the 10 weights with the largest magnitude."
   ]
  },
  {
   "cell_type": "code",
   "execution_count": 29,
   "metadata": {
    "collapsed": false
   },
   "outputs": [
    {
     "name": "stdout",
     "output_type": "stream",
     "text": [
      "Feature = too bad \t\tweight = 21.63\n",
      "Feature = soaked \t\tweight = -12.62\n",
      "Feature = no way \t\tweight = -12.62\n",
      "Feature = particularly \t\tweight = 12.17\n",
      "Feature = food and the \t\tweight = -12.01\n",
      "Feature = location in \t\tweight = 11.98\n",
      "Feature = open for \t\tweight = -11.50\n",
      "Feature = has a \t\tweight = 11.08\n",
      "Feature = you are looking \t\tweight = 10.91\n",
      "Feature = comparable \t\tweight = 10.25\n"
     ]
    }
   ],
   "source": [
    "#Identify non-zero weight vector elements\n",
    "ind_list = np.where(np.fabs(star_res[0]) != 0)[1] #Indices for those weights\n",
    "mask = (np.fabs(star_res[0]) != 0) \n",
    "weights = star_res[0][mask] #Actual values for the weights\n",
    "\n",
    "#Sort array smallest->largest, get indices \n",
    "sorted_w_args = np.argsort(np.fabs(weights))\n",
    "for i in range(1,11):\n",
    "    print \"Feature = %s \\t\\tweight = %.2lf\" % (star_features[sorted_w_args[-i]], weights[sorted_w_args[-i]])"
   ]
  },
  {
   "cell_type": "markdown",
   "metadata": {},
   "source": [
    "# Do the weights make sense?\n",
    "\n",
    "These ones are a bit tougher to gauge since judging context from a one to three words is tough.  For the features with negative weights, I expect them to reflect some negative experience had by the reviewer.  The features \"soaked\", \"no way\" and \"open for\" give the connotation of an exasperature patron, as in \"my burrito was soaked\", or \"no way was I eating that\" or even \"they were only open for a few hours\".  I can easily see how they would reflect a poor experience by the reviewer and hence result in a lower score.\n",
    "\n",
    "For features with positive weights, on the other hand, one would expect them to reflect positive experiences had by the reviewer.  Features like \"too bad\", \"particularly\", \"you are looking\" and \"location in\" seem to reflect that notion.  I can imagine such reviews cointaining the features going like \"the food was particularly good...\", if \"you are looking for good food...\" , \"the store had an excellent location in...\" or \"too bad I didn't order more tacos\".  These features, and other ones with positive weights, do seem to be used more frequently for expressing happier notions and hence are believeable for leading to higher review scores."
   ]
  },
  {
   "cell_type": "code",
   "execution_count": null,
   "metadata": {
    "collapsed": true
   },
   "outputs": [],
   "source": []
  }
 ],
 "metadata": {
  "kernelspec": {
   "display_name": "Python 2",
   "language": "python",
   "name": "python2"
  },
  "language_info": {
   "codemirror_mode": {
    "name": "ipython",
    "version": 2
   },
   "file_extension": ".py",
   "mimetype": "text/x-python",
   "name": "python",
   "nbconvert_exporter": "python",
   "pygments_lexer": "ipython2",
   "version": "2.7.11"
  }
 },
 "nbformat": 4,
 "nbformat_minor": 0
}
