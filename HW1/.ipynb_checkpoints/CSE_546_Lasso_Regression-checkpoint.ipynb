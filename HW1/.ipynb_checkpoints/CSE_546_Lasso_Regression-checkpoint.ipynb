{
 "cells": [
  {
   "cell_type": "markdown",
   "metadata": {},
   "source": [
    "# David Fleming \n",
    "# HW 1 Question 6: Lasso Regression\n",
    "# CSE 546 Machine Learning\n",
    "# Prof. Kakade"
   ]
  },
  {
   "cell_type": "code",
   "execution_count": 70,
   "metadata": {
    "collapsed": false
   },
   "outputs": [],
   "source": [
    "#Imports\n",
    "%matplotlib inline\n",
    "\n",
    "import scipy.sparse as sp\n",
    "import numpy as np\n",
    "import matplotlib\n",
    "import matplotlib.pylab as plt\n",
    "from __future__ import division\n",
    "\n",
    "#Typical plot parameters that make for pretty plots\n",
    "plt.rcParams['figure.figsize'] = (10,8)\n",
    "from astroML.plotting import setup_text_plots\n",
    "setup_text_plots(fontsize=20, usetex=True)\n",
    "plt.rcParams['font.family'] = 'serif' \n",
    "plt.rcParams['font.size'] = 20.0"
   ]
  },
  {
   "cell_type": "markdown",
   "metadata": {},
   "source": [
    "# Scipy sparse matrix example from the ghost of CSE 546 past"
   ]
  },
  {
   "cell_type": "code",
   "execution_count": 6,
   "metadata": {
    "collapsed": false
   },
   "outputs": [
    {
     "name": "stdout",
     "output_type": "stream",
     "text": [
      "[[ 0  1  2  3]\n",
      " [ 4  5  6  7]\n",
      " [ 8  9 10 11]]\n",
      "\n",
      "(3, 4) (4,)\n",
      "\n",
      "[  6.  22.  38.]\n",
      "\n",
      "[ 12.]\n",
      "\n",
      "80\n"
     ]
    }
   ],
   "source": [
    "####\n",
    "# This is a quick walkthrough to help you understand the operations in scipy.sparse\n",
    "####\n",
    "\n",
    "# construct a sparse array, here we simply construct it from dense array\n",
    "A = np.arange(12).reshape(3,4)\n",
    "print A\n",
    "X = sp.csc_matrix(A)\n",
    "\n",
    "w = np.ones(4)\n",
    "print\n",
    "print X.shape, w.shape\n",
    "\n",
    "#  matrix vector multiplication\n",
    "y = X.dot(w)\n",
    "print\n",
    "print y\n",
    "\n",
    "#\n",
    "# dot product between i-th column of X and g\n",
    "#\n",
    "i = 0\n",
    "g = np.ones(3)\n",
    "# r1 = dot(X[:,i], g), because X takes matrix syntax, we need to do it in this way\n",
    "r1 = X[:,i].T.dot(g)\n",
    "print\n",
    "print r1\n",
    "#\n",
    "# This is how you can get dot(X[:,i], X[:,i]) in csc_matix\n",
    "#\n",
    "r2 = X[:,i].T.dot(X[:,i])[0,0]\n",
    "print\n",
    "print r2"
   ]
  },
  {
   "cell_type": "markdown",
   "metadata": {},
   "source": [
    "# Define a function to generate data from a linear model with Gaussian noise as described by Question 6.3."
   ]
  },
  {
   "cell_type": "code",
   "execution_count": 7,
   "metadata": {
    "collapsed": true
   },
   "outputs": [],
   "source": [
    "def generate_norm_data(n,k,d,sigma=1):\n",
    "    \"\"\"\n",
    "    Generates independent data pairs (x_i,y_i) according to the following model:\n",
    "    \n",
    "    yi = w*_0 + w*_1x_i_1 + w*2 x_i_2 + ... w*k x_i_k + eps_i\n",
    "    \n",
    "    for eps_i = Gaussian noise of the form N(0,sigma^2)\n",
    "    and each element of X (shape N x d) is from N(0,1)\n",
    "    \n",
    "    Parameters\n",
    "    ----------\n",
    "    n : int\n",
    "        Number of samples\n",
    "    k : int\n",
    "        k < d number of features for dimensions d\n",
    "    d : int\n",
    "        number of dimensions\n",
    "    sigma : float\n",
    "        Gaussian error standard deviation\n",
    "        \n",
    "    Returns\n",
    "    -------\n",
    "    w : vector\n",
    "        true weight vector\n",
    "    X : n x d matrix\n",
    "        data matrix\n",
    "    y : n x 1 vector\n",
    "    \"\"\"\n",
    "    assert(k < d), \"k < d must hold for k: %lf, d: %lf\" % (k,d)\n",
    "    \n",
    "    #Create w vector\n",
    "    #Let w0 = 0 and create a w∗ by setting the first k elements to ±10 \n",
    "    #(choose any sign pattern) and the remaining elements to 0\n",
    "    w = np.zeros(d)\n",
    "    for i in range(1,k+1):\n",
    "        if i < k/2:\n",
    "            w[i] = 10\n",
    "        else:\n",
    "            w[i] = -10\n",
    "    \n",
    "    #Generate n x d data matrix X for each element from N(0,1)\n",
    "    X = sp.csc_matrix(np.random.randn(n, d))\n",
    "    \n",
    "    #Generate n x 1 array of Gaussian error samples from N(0,sigma^2)\n",
    "    eps = np.random.randn(n)\n",
    "    \n",
    "    #Finally, generate a Gaussian noise vector eps with variance σ^2 and \n",
    "    #form y = Xw* + w*_0 + eps for w*_0 assumed to be 0\n",
    "    y = X.dot(w) + eps\n",
    "        \n",
    "    return w, X, y"
   ]
  },
  {
   "cell_type": "markdown",
   "metadata": {},
   "source": [
    "# Define a function to calculate the root mean square error."
   ]
  },
  {
   "cell_type": "code",
   "execution_count": 8,
   "metadata": {
    "collapsed": true
   },
   "outputs": [],
   "source": [
    "def calc_RMSE(y,y_hat):\n",
    "    \"\"\"\n",
    "    Compute the mean squared error of the prediction\n",
    "    y_hat relative to the observed y\n",
    "    \n",
    "    Parameters\n",
    "    ----------\n",
    "    y : array (n x 1)\n",
    "        observed\n",
    "    y_hat : array (n x 1)\n",
    "        predicted\n",
    "    \"\"\"\n",
    "    assert(len(y) == len(y_hat))\n",
    "    ret = 0.0\n",
    "    for i in range(0,len(y)):\n",
    "        ret += np.power(y_hat[i] - y[i],2.0)\n",
    "    return np.sqrt(ret/len(y))"
   ]
  },
  {
   "cell_type": "code",
   "execution_count": 9,
   "metadata": {
    "collapsed": false
   },
   "outputs": [],
   "source": [
    "def check_solution(X,y,w_pred,w_0_pred,l):\n",
    "    \"\"\"\n",
    "    See if the computed solution w_pred, w_0_pred for a given lambda l\n",
    "    is correct.  That occurs when:\n",
    "    \n",
    "    test = 2X^T(Xw_pred + w_0_pred - y)\n",
    "    test_j = -lambda*sign(w_pred_j) for each j that is nonzero\n",
    "    Otherwise, each j value should be lesser in magnitude that lambda\n",
    "    \n",
    "    Parameters\n",
    "    ----------\n",
    "    X : n x d matrix of data\n",
    "    y : N x 1 vector of response variables\n",
    "    w_pred : predicted d dimensions weight vector\n",
    "    w_0_pred : scalar offset term\n",
    "    l : regularization tuning parameter\n",
    "    \n",
    "    Returns\n",
    "    -------\n",
    "    ans : bool\n",
    "        whether or not the solution passes the test criteria\n",
    "    \"\"\"\n",
    "    eps = 1.0e-8\n",
    "    condition = False\n",
    "    \n",
    "    test = 2.0*X.T*(X.dot(w_pred) + w_0_pred - y)\n",
    "    \n",
    "    #Mask values corresponding to w_pred == 0\n",
    "    mask = np.fabs(w_pred) < eps\n",
    "    mask2 = np.fabs(test[mask]) < l\n",
    "    mask = np.ones(len(w_pred))[mask]\n",
    "            \n",
    "    if np.array_equal(mask2,mask) and np.sum(mask) != len(w_pred):\n",
    "        w_j = test[np.logical_not(mask)]\n",
    "        if np.allclose(w_j,-l*np.sign(w_j),atol=1.0e-10, rtol=1.0e-1) and w_j != []:\n",
    "            condition = True\n",
    "        else:\n",
    "            condition = False\n",
    "    else:\n",
    "        condition = False\n",
    "    \n",
    "    return condition"
   ]
  },
  {
   "cell_type": "markdown",
   "metadata": {},
   "source": [
    "# Define a function to compute $\\lambda_{max}$ where $\\lambda_{max}$ is the smallest value  for which the solution w is entirely zero as described by Question 6.2."
   ]
  },
  {
   "cell_type": "code",
   "execution_count": 10,
   "metadata": {
    "collapsed": true
   },
   "outputs": [],
   "source": [
    "def compute_max_lambda(X,y):\n",
    "    \"\"\"\n",
    "    Compute the smallest lambda for which the solution w is entirely zero\n",
    "    \n",
    "    Parameters\n",
    "    ----------\n",
    "    X : n x d matrix of data (scipy sparse matrix)\n",
    "    y : n x 1 vector of response variables\n",
    "    \n",
    "    Returns\n",
    "    -------\n",
    "    l : float\n",
    "        Smallest value of lambda for which the solution w is entirely zero\n",
    "    \"\"\"\n",
    "    y_mean = np.mean(y)\n",
    "    arg = X.T.multiply(y - y_mean)\n",
    "    return 2.0*np.linalg.norm(arg,ord=np.inf)"
   ]
  },
  {
   "cell_type": "markdown",
   "metadata": {},
   "source": [
    "# The function naive_lasso performs a lasso regression via coordinate descent described by algorithm one in Question 6.1.\n",
    "This algorithm has been sped up by making use of numpy arrays for y and w and scipy sparse matricies for the data input matrix X.  For optimal performance, summations via for loops are avoided in favor up using vector/matrix multiplications using dot products and vector addition.  For code performance, see the cells below."
   ]
  },
  {
   "cell_type": "code",
   "execution_count": 17,
   "metadata": {
    "collapsed": false
   },
   "outputs": [],
   "source": [
    "def naive_lasso(X,y,l=10,w=-999,w_0=-999):\n",
    "    \"\"\"\n",
    "    Implimentation of the naive (un-optimized) lasso regression \n",
    "    algorithm.\n",
    "    \n",
    "    Parameters\n",
    "    ----------\n",
    "    X : n x d matrix of data\n",
    "    X_i : the ith row of X\n",
    "    y : N x 1 vector of response variables\n",
    "    w : d dimensions weight vector (optional)\n",
    "    w_0 : scalar offset term (optional)\n",
    "    l : regularization tuning parameter\n",
    "    \n",
    "    All matrices X assumed to be sparse and of the form given by \n",
    "    scipy.sparse.csc matrix\n",
    "    \n",
    "    Algorithm 1: Coordinate Descent Algorithm for Lasso\n",
    "    \n",
    "    while not converged do:\n",
    "        w_0 <- sum_i=1_N[y_i - sum_j[w_j X_ij]]/N\n",
    "        for(k [1,d]) do:\n",
    "            a_k <- 2 * sum_i=1_N[X_ik ^2]\n",
    "            c_k <- 2 * sum_i=1_N[X_ik (y_i - (w_0 + sum_j!=k[w_j X_ij]))]\n",
    "            w_k <- (c_k + lambda)/a_k if c_k < -lambda\n",
    "                    0 if c_k is between [-lambda,lambda]\n",
    "                    (c_k - lambda)/a_k if c_k > lambda\n",
    "        end\n",
    "    end\n",
    "\n",
    "    Returns\n",
    "    -------\n",
    "    w : numpy array\n",
    "        d x 1 weight vector\n",
    "    w_0 : float\n",
    "        offset\n",
    "    y_hat : numpy array (n x 1)\n",
    "        predictions\n",
    "    \"\"\"\n",
    "    #Define values\n",
    "    N = y.shape[0]\n",
    "    d = X.shape[1]\n",
    "    y = y.reshape(N,1)\n",
    "    \n",
    "    #If no initial conditions, assume Gaussian\n",
    "    if not hasattr(w, \"__len__\") and w == -999:\n",
    "        w = np.random.randn(d)\n",
    "    if w_0 == -999:\n",
    "        w_0 = np.random.randn(1)\n",
    "    \n",
    "    #Convergence condition\n",
    "    eps = 1.0e-3\n",
    "    w_old = np.zeros(w.shape).reshape(d,1)\n",
    "    w_pred = np.copy(w).reshape(d,1)\n",
    "    \n",
    "    while(np.sqrt((w_pred - w_old).dot((w_pred - w_old).T)[0][0]) > eps):\n",
    "        #Store for convergence test \n",
    "        w_old = np.copy(w_pred)\n",
    "        \n",
    "        #Compute w_0\n",
    "        w_0 = np.sum(y)\n",
    "        w_0 -= X.dot(w_pred).sum()\n",
    "        w_0 /= N\n",
    "            \n",
    "        #Compute a_k: d x 1 summing over columns\n",
    "        a = 2.0*np.asarray((X.power(2).sum(axis=0).T))\n",
    "        c = np.zeros(d)\n",
    "         \n",
    "        for k in range(0,d):\n",
    "            \n",
    "            alpha = np.zeros((d,d))\n",
    "            np.fill_diagonal(alpha, 1)\n",
    "            alpha[k,k] = 0\n",
    "            alpha = X.dot(alpha.dot(w_pred)) + w_0\n",
    "            \n",
    "            #Compute c: d x 1\n",
    "            c[k] = 2.0*X[:,k].T.dot((y-alpha))\n",
    "            \n",
    "            \"\"\"\n",
    "            #Compute c_k: d x 1\n",
    "            c_sum = 0.0\n",
    "            for i in range(0,N):\n",
    "                #Select not k columns\n",
    "                ind = [x for x in range(0,d) if x != k]\n",
    "                c_sum += X[i,k]*(y[i] - (X[i,ind].dot(w_pred[ind]) + w_0))\n",
    "            c[k] = 2.0*c_sum\n",
    "            \"\"\"\n",
    "            \n",
    "            #Compute w_k\n",
    "            if(c[k] < -l):\n",
    "                w_pred[k] = (c[k] + l)/a[k]\n",
    "            elif(c[k] >= -l and c[k] <= l):\n",
    "                w_pred[k] = 0.0\n",
    "            elif(c[k]  > l):\n",
    "                w_pred[k] = (c[k] - l)/a[k]\n",
    "            else:\n",
    "                print \"Error! Shouldn't ever happen.\"\n",
    "        #end for\n",
    "        #print w_pred\n",
    "    #end while\n",
    "    \n",
    "    #Return as row array\n",
    "    y_hat = np.zeros(y.shape)\n",
    "    y_hat = X.dot(w_pred) + w_0\n",
    "    return w_pred.T, w_0, y_hat"
   ]
  },
  {
   "cell_type": "markdown",
   "metadata": {},
   "source": [
    "# The function lasso_reg_path solves multiple Lasso problems on a regularization path, starting at $\\lambda_{max}$ and decreasing $\\lambda$ by a constant ratio until few features are chosen correctly.  Each iteration stores informative data, such as correct non-zero features, RMSE, etc, for subsequent algorithm evalution."
   ]
  },
  {
   "cell_type": "code",
   "execution_count": 81,
   "metadata": {
    "collapsed": false
   },
   "outputs": [],
   "source": [
    "def lasso_reg_path(X,y,w=-999,w_0=-999,scale=0.8,reg_type=\"naive\"):\n",
    "    \"\"\"\n",
    "    Implimentation of the naive (un-optimized) lasso regression \n",
    "    algorithm.\n",
    "    \n",
    "    Parameters\n",
    "    ----------\n",
    "    X : n x d matrix of data\n",
    "    y : n x 1 vector of response variables\n",
    "    w : d dimensions weight vector (optional)\n",
    "    w_0 : scalar offset term (optional)\n",
    "    scale : by how much lambda l decreases each run\n",
    "    reg_type : str\n",
    "        naive = use slow naive lasso\n",
    "        quick = use optimized lasso\n",
    "        \n",
    "    Returns\n",
    "    -------\n",
    "    \n",
    "    All matrices assumed to be sparse and of the form given by \n",
    "    scipy.sparse.csc matrix\n",
    "    \n",
    "    \"\"\"\n",
    "    #Store dimensions\n",
    "    n = y.shape[0]\n",
    "    d = X.shape[1]\n",
    "    \n",
    "    #Choose upper bound for lambda, initial conditions\n",
    "    l = compute_max_lambda(X,y)*scale*scale*scale*scale\n",
    "    RMSE_prev = 1.0e5\n",
    "    eps = 0.1\n",
    "    RMSE_list = [] #Holds mean squared error at each step\n",
    "    l_list = [] #Holds lambdas used at each iteration\n",
    "    iter_list = [] #keeps count of iteration number\n",
    "    nonzero_ind = [] #Holds indices for non-zero elements of w_pred\n",
    "    count = 0\n",
    "    \n",
    "    #If no initial conditions, assume Gaussian\n",
    "    if not hasattr(w, \"__len__\") and w == -999:\n",
    "        w = np.random.randn(d)\n",
    "    if w_0 == -999:\n",
    "        w_0 = np.random.randn(1)\n",
    "    \n",
    "    w_pred = np.copy(w).reshape(d,1)\n",
    "    w = w.reshape(d,1)\n",
    "    y = y.reshape(n,1)\n",
    "    w_0_pred = w_0\n",
    "            \n",
    "    #If solution isn't converged, keep going\n",
    "    while(l > 0.1):\n",
    "        #If w_pred all 0's, feed a new one\n",
    "        w_pred = np.random.randn(d).reshape(d,1)\n",
    "        w_0_pred = np.random.randn(1)\n",
    "\n",
    "        w_pred, w_0_pred, y_hat = naive_lasso(X,y,l=l,w=w_pred,w_0=w_0_pred)        \n",
    "         \n",
    "        #Compute mean square error\n",
    "        RMSE = np.zeros(1)\n",
    "        RMSE = calc_RMSE(y,y_hat)\n",
    "        \n",
    "        #Save info for future plotting\n",
    "        RMSE_list.append(RMSE)\n",
    "        l_list.append(l)\n",
    "        iter_list.append(count)\n",
    "        nonzero_ind.append((w_pred != 0))\n",
    "        \n",
    "        #If solution is starts to increase MSE sufficiently, return\n",
    "        if RMSE > RMSE_prev:\n",
    "            return w_pred, w_0_pred, RMSE_list, l_list, iter_list, nonzero_ind \n",
    "        else:\n",
    "            RMSE_prev = RMSE\n",
    "        \n",
    "        #Decrease scale for next iteration\n",
    "        l *= scale\n",
    "        count += 1\n",
    "    \n",
    "    return w_pred, w_0_pred, RMSE_list, l_list, iter_list, nonzero_ind"
   ]
  },
  {
   "cell_type": "markdown",
   "metadata": {},
   "source": [
    "# The function naive_lasso performs a lasso regression via coordinate descent described by algorithm two in Question 6.1.  For the derivation of the specific steps used by this algorithm and the respective time complexity, see attached sheet.\n",
    "This algorithm has been sped up by making use of numpy arrays for y and w and scipy sparse matricies for the data input matrix XFor optimal performance, summations via for loops are avoided in favor up using vector/matrix multiplications using dot products and vector addition.  For code performance, see the cells below."
   ]
  },
  {
   "cell_type": "code",
   "execution_count": 82,
   "metadata": {
    "collapsed": false
   },
   "outputs": [],
   "source": [
    "def quick_lasso(X,y,l=10,w=-999,w_0=-999):\n",
    "    \"\"\"\n",
    "    Implimentation of the naive (un-optimized) lasso regression \n",
    "    algorithm.\n",
    "    \n",
    "    Parameters\n",
    "    ----------\n",
    "    X : n x d matrix of data\n",
    "    X_i : the ith row of X\n",
    "    y : N x 1 vector of response variables\n",
    "    w : d dimensions weight vector (optional)\n",
    "    w_0 : scalar offset term (optional)\n",
    "    l : regularization tuning parameter\n",
    "    \n",
    "    All matrices X assumed to be sparse and of the form given by \n",
    "    scipy.sparse.csc matrix\n",
    "\n",
    "    Returns\n",
    "    -------\n",
    "    w : numpy array\n",
    "        d x 1 weight vector\n",
    "    w_0 : float\n",
    "        offset   \n",
    "    \"\"\"\n",
    "    #Define values\n",
    "    n = y.shape[0]\n",
    "    d = X.shape[1]\n",
    "    \n",
    "    #Convergence condition\n",
    "    eps = 1.0e-5\n",
    "    \n",
    "    #If no initial conditions, assume Gaussian\n",
    "    if w == -999:\n",
    "        w = np.random.randn(d)\n",
    "    if w_0 == -999:\n",
    "        w_0 = np.random.randn(1)\n",
    "    \n",
    "    w_pred = np.copy(w).reshape(d,1) # d x 1\n",
    "    w_old = np.zeros(w_pred.shape) # d x 1\n",
    "    y = y.reshape(n,1) # n x 1\n",
    "    c = np.zeros(d).reshape(d,1)\n",
    "    a = np.zeros(d).reshape(d,1)\n",
    "    \n",
    "    while((w_pred - w_old).dot((w_pred - w_old).T)[0][0] > eps):\n",
    "        if np.fabs(w_0) > 1.0e10:\n",
    "            print(\"w_0 too large\")\n",
    "            break\n",
    "        \n",
    "        #Store for convergence test \n",
    "        w_old = np.copy(w_pred)\n",
    "        \n",
    "        #Compute y_hat (n x 1) to avoid numerical drift\n",
    "        y_hat = X.dot(w_pred) + w_0        \n",
    "            \n",
    "        #Compute w_0 via rule from 6.1.1\n",
    "        w_0 = np.sum(y - np.sum(y_hat))/(n*(1-n))\n",
    "        \n",
    "        #Update y_hat via 6.1.5\n",
    "        y_hat = X.dot(w_pred) + w_0\n",
    "            \n",
    "        #Compute a_k: d x 1 summing over columns\n",
    "        a = 2.0*np.asarray((X.power(2).sum(axis=0).T))\n",
    "          \n",
    "        for k in range(0,d):\n",
    "    \n",
    "            alpha = np.zeros((d,d))\n",
    "            np.fill_diagonal(alpha, 1)\n",
    "            alpha[k,k] = 0\n",
    "            alpha = X.dot(alpha.dot(w_old)) + w_0\n",
    "                \n",
    "            #Compute c: d x 1\n",
    "            c[k] = 2.0*X[:,k].T.dot((y-alpha))\n",
    "            \"\"\"\n",
    "            #Slooooow way\n",
    "            c_sum = 0.0\n",
    "            for i in range(0,N):\n",
    "                #Select not k columns\n",
    "                ind = [x for x in range(0,d) if x != k]\n",
    "                c_sum += X[i,k]*(y[i] - (X[i,ind].dot(w_pred[ind]) + w_0))\n",
    "            c[k] = 2.0*c_sum \n",
    "            \"\"\"\n",
    "            \n",
    "            #Compute w_k\n",
    "            if(c[k] < -l):\n",
    "                w_pred[k] = (c[k] + l)/a[k]\n",
    "            elif(c[k] >= -l and c[k] <= l):\n",
    "                w_pred[k] = 0.0\n",
    "            elif(c[k]  > l):\n",
    "                w_pred[k] = (c[k] - l)/a[k]\n",
    "            else:\n",
    "                print \"Error! Shouldn't ever happen.\"\n",
    "                break\n",
    "            \n",
    "            y_hat = ((X).dot(w_pred)) + alpha\n",
    "        #end for\n",
    "    #end while\n",
    "    \n",
    "    #Return as row array\n",
    "    return w_pred.T, w_0"
   ]
  },
  {
   "cell_type": "markdown",
   "metadata": {},
   "source": [
    "# Question 6.2\n",
    "# Test performance of the naive coordinate descent lasso solver on synthetic data.\n",
    "The generated data is of the form described by HW1 Question 6.2 with N = 50, d = 75, k = 5, and $\\sigma$ = 1.  For the evaluation, $R^2$ is the correlation of the true $w$ used to generate the data and $w_{pred}$ outputted by the lasso algorithm.  For perfect lasso performance, we would expect a correlation of 1."
   ]
  },
  {
   "cell_type": "code",
   "execution_count": 83,
   "metadata": {
    "collapsed": false
   },
   "outputs": [
    {
     "name": "stdout",
     "output_type": "stream",
     "text": [
      "w_pred correlation with w_true (from which model was generated:)\n",
      "R^2 = 0.846359\n",
      "w_pred correlation with w_true (from which model was generated:)\n",
      "R^2 = 0.303550\n",
      "w_pred correlation with w_true (from which model was generated:)\n",
      "R^2 = 0.821759\n",
      "w_pred correlation with w_true (from which model was generated:)\n",
      "R^2 = 0.975156\n",
      "w_pred correlation with w_true (from which model was generated:)\n",
      "R^2 = 0.929111\n",
      "w_pred correlation with w_true (from which model was generated:)\n",
      "R^2 = 0.967993\n",
      "w_pred correlation with w_true (from which model was generated:)\n",
      "R^2 = 0.954245\n",
      "w_pred correlation with w_true (from which model was generated:)\n",
      "R^2 = 0.930601\n",
      "w_pred correlation with w_true (from which model was generated:)\n",
      "R^2 = 0.953348\n",
      "3 loops, best of 3: 71.3 ms per loop\n"
     ]
    }
   ],
   "source": [
    "%%timeit -n3 -r3\n",
    "N = 50\n",
    "k = 5\n",
    "d = 75\n",
    "w, X, y = generate_norm_data(N,k,d,sigma=10)\n",
    "\n",
    "y = y.reshape(N,1)\n",
    "\n",
    "w_pred, w_0_pred, y_hat = naive_lasso(X,y,l=158)\n",
    "\n",
    "SSres = np.sum(np.power(w_pred-w,2))\n",
    "w_bar = np.mean(w)\n",
    "SStot = np.sum(np.power(w_pred-w_bar,2))\n",
    "print \"w_pred correlation with w_true (from which model was generated:)\"\n",
    "print(\"R^2 = %lf\" % (1.0 - (SSres/SStot)))"
   ]
  },
  {
   "cell_type": "markdown",
   "metadata": {},
   "source": [
    "# Results\n",
    "For the linear model with Gaussian noise with N = 50, d = 75, and k = 5, the algorithm quickly and accurately predicts the weight vector."
   ]
  },
  {
   "cell_type": "markdown",
   "metadata": {},
   "source": [
    "# Question 6.3\n",
    "\n",
    "#  Try out your work on synthetic data\n",
    "\n",
    "# Case: N = 50, d = 75, k = 5, $\\sigma$ = 1\n",
    "\n",
    "Lasso regression down a regularization path is performed on the linear data with Gaussian noise.  The precision and recall for the weight vector w is analyzed as a function of $\\lambda$ in the plots below."
   ]
  },
  {
   "cell_type": "code",
   "execution_count": 88,
   "metadata": {
    "collapsed": false
   },
   "outputs": [
    {
     "name": "stdout",
     "output_type": "stream",
     "text": [
      "22\n"
     ]
    }
   ],
   "source": [
    "#Generate data set\n",
    "N = 50\n",
    "k = 5\n",
    "d = 75\n",
    "w, X, y = generate_norm_data(N,k,d,sigma=10)\n",
    "\n",
    "l = compute_max_lambda(X,y)\n",
    "\n",
    "N = y.shape[0]\n",
    "d = X.shape[1]\n",
    "\n",
    "#Run lasso regularization path \n",
    "#w_pred, w_0_pred, MSE_list, l_list, iter_list, nonzero_ind\n",
    "res = lasso_reg_path(X,y,scale=0.9,reg_type=\"naive\")\n",
    "\n",
    "#Find true number of non-zeros\n",
    "non_zeros = []\n",
    "tot_non_zeros = []\n",
    "k_mask = (w != 0)\n",
    "\n",
    "print len(res[5])\n",
    "for val in res[5]:\n",
    "    #Compute total number of predicted non-zeros\n",
    "    tot_non_zeros.append(np.sum(val))\n",
    "    \n",
    "    #Compute # of true non-zeros recovered\n",
    "    mask_prime = np.logical_and(k_mask,val)\n",
    "    non_zeros.append(np.sum(mask_prime))\n",
    "        \n",
    "non_zeros = np.asarray(non_zeros)\n",
    "tot_non_zeros = np.asarray(tot_non_zeros)"
   ]
  },
  {
   "cell_type": "code",
   "execution_count": 89,
   "metadata": {
    "collapsed": false
   },
   "outputs": [
    {
     "name": "stdout",
     "output_type": "stream",
     "text": [
      "Optimal lambda: 142.70\n"
     ]
    },
    {
     "data": {
      "image/png": "[encoded data removed]",
      "text/plain": [
       "<matplotlib.figure.Figure at 0x109f58090>"
      ]
     },
     "metadata": {},
     "output_type": "display_data"
    }
   ],
   "source": [
    "plt.scatter(res[3],res[2])\n",
    "plt.gca().invert_xaxis()\n",
    "plt.xlabel(r\"$\\lambda$\")\n",
    "plt.ylabel(\"RMSE\")\n",
    "plt.title(\"RMSE vs $\\lambda$ for synthetic data\")\n",
    "\n",
    "print(\"Optimal lambda: %.2lf\" % (res[3][-2]))"
   ]
  },
  {
   "cell_type": "code",
   "execution_count": 103,
   "metadata": {
    "collapsed": false
   },
   "outputs": [
    {
     "name": "stderr",
     "output_type": "stream",
     "text": [
      "/anaconda/lib/python2.7/site-packages/ipykernel/__main__.py:12: RuntimeWarning: invalid value encountered in true_divide\n"
     ]
    },
    {
     "data": {
      "image/png": "[encoded data removed]",
      "text/plain": [
       "<matplotlib.figure.Figure at 0x1097d7690>"
      ]
     },
     "metadata": {},
     "output_type": "display_data"
    }
   ],
   "source": [
    "fig, ax1 = plt.subplots()\n",
    "ax1.plot(res[3],non_zeros/float(k), 'o-',color='b')\n",
    "ax1.set_xlabel(r'$\\lambda$')\n",
    "ax1.set_ylim(-.1,1.1)\n",
    "# Make the y-axis label and tick labels match the line color.\n",
    "ax1.set_ylabel('recall', color='b')\n",
    "for tl in ax1.get_yticklabels():\n",
    "    tl.set_color('b')\n",
    "\n",
    "\n",
    "ax2 = ax1.twinx()\n",
    "ax2.plot(res[3],non_zeros/tot_non_zeros, 'o-',color='r')\n",
    "ax2.set_ylabel('precision', color='r')\n",
    "ax2.set_ylim(-.1,1.1)\n",
    "for tl in ax2.get_yticklabels():\n",
    "    tl.set_color('r')\n",
    "\n",
    "plt.gca().invert_xaxis()\n",
    "plt.title(\"Precision, recall vs. $\\lambda$ for $\\sigma$ = 1 linear model with Gaussian noise\", y = 1.02)\n",
    "plt.show()"
   ]
  },
  {
   "cell_type": "markdown",
   "metadata": {},
   "source": [
    "# 6.3.1 Discussion\n",
    "As can be seen above, the model was able to accurately recall the true number of non-zeros after only a few iterations which is rather impressive given the large initial $\\lambda$.  As $\\lambda$ decreases, the recall improves which makes sense since the non-zero weight values range between -10 and 10.  Also, the precision increases up until at point where it remains perfect.  Once $\\lambda$ gets quite small, however, the precision begins to decrease as overfitting might be occuring turning some formerly 0 values into small, non-zero values."
   ]
  },
  {
   "cell_type": "raw",
   "metadata": {
    "collapsed": true
   },
   "source": [
    "import scipy.io as io\n",
    "import scipy.sparse as sparse\n",
    "import os\n",
    "\n",
    "os.chdir(\"/Users/dflemin3/Desktop/CSE_546/HW1/hw1-data\")\n",
    "\n",
    "# Load a text file of integers:\n",
    "y = np.loadtxt(\"upvote_labels.txt\", dtype=np.int)\n",
    "\n",
    "# Load a text file of strings:\n",
    "featureNames = open(\"upvote_features.txt\").read().splitlines()\n",
    "\n",
    "# Load a csv of floats:\n",
    "A = np.genfromtxt(\"upvote_data.csv\", delimiter=\",\")\n",
    "\n",
    "# Load a matrix market matrix, convert it to csc format:\n",
    "#B = io.mmread(\"star_data.mtx\").tocsc()"
   ]
  },
  {
   "cell_type": "raw",
   "metadata": {},
   "source": [
    "A = sparse.csc_matrix(A)\n",
    "print A[:3000,:].shape\n",
    "print y[:3000].shape"
   ]
  },
  {
   "cell_type": "raw",
   "metadata": {},
   "source": [
    "w_pred, w_0_pred = naive_lasso(X=A[:3000,:],y=y[:3000],w=-999,w_0=-999,l=10)"
   ]
  },
  {
   "cell_type": "raw",
   "metadata": {},
   "source": [
    "print w_pred"
   ]
  },
  {
   "cell_type": "raw",
   "metadata": {},
   "source": [
    "ind_list = np.where(w_pred > 0.001)[1]\n",
    "for ind in ind_list:\n",
    "    print featureNames[ind]"
   ]
  },
  {
   "cell_type": "raw",
   "metadata": {},
   "source": [
    "alpha = np.zeros((d,d))\n",
    "np.fill_diagonal(alpha, 1)\n",
    "alpha[k,k] = 0\n",
    "alpha = X.dot(alpha.dot(w_pred.T))\n",
    "print alpha.shape"
   ]
  },
  {
   "cell_type": "raw",
   "metadata": {},
   "source": [
    "i = 0\n",
    "tmp = 0.0\n",
    "for j in range(0,d):\n",
    "    if j != k:\n",
    "        tmp += X[i,j]*w_pred.T[j]\n",
    "        \n",
    "print tmp, alpha[0]"
   ]
  },
  {
   "cell_type": "raw",
   "metadata": {},
   "source": [
    "ind = [x for x in range(0,d) if x != k]\n",
    "c_sum = X[i,ind].dot(w_pred.T[ind])\n",
    "print c_sum"
   ]
  },
  {
   "cell_type": "raw",
   "metadata": {},
   "source": [
    "c_1 = np.zeros(d).reshape(d,1)\n",
    "c_2 = np.zeros(c_1.shape)\n",
    "\n",
    "\n",
    "y = y.reshape(N,1)\n",
    "\n",
    "w_0 = 1\n",
    "for k in range(0,d):\n",
    "    alpha = np.zeros((d,d))\n",
    "    np.fill_diagonal(alpha, 1)\n",
    "    alpha[k,k] = 0\n",
    "    alpha = X.dot(alpha.dot(w_pred.T)) + w_0\n",
    "        \n",
    "    #Compute c: d x 1\n",
    "    c_1[k] = 2.0*X[:,k].T.dot((y-alpha))\n",
    "    #Slooooow way\n",
    "    c_sum = 0.0\n",
    "    for i in range(0,N):\n",
    "        #Select not k columns\n",
    "        ind = [x for x in range(0,d) if x != k]\n",
    "        c_sum += X[i,k]*(y[i] - (X[i,ind].dot(w_pred.T[ind]) + w_0))\n",
    "    c_2[k] = 2.0*c_sum"
   ]
  },
  {
   "cell_type": "code",
   "execution_count": null,
   "metadata": {
    "collapsed": true
   },
   "outputs": [],
   "source": []
  }
 ],
 "metadata": {
  "kernelspec": {
   "display_name": "Python 2",
   "language": "python",
   "name": "python2"
  },
  "language_info": {
   "codemirror_mode": {
    "name": "ipython",
    "version": 2
   },
   "file_extension": ".py",
   "mimetype": "text/x-python",
   "name": "python",
   "nbconvert_exporter": "python",
   "pygments_lexer": "ipython2",
   "version": "2.7.10"
  }
 },
 "nbformat": 4,
 "nbformat_minor": 0
}
